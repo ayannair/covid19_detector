{
  "nbformat": 4,
  "nbformat_minor": 0,
  "metadata": {
    "colab": {
      "provenance": []
    },
    "kernelspec": {
      "display_name": "Python 3",
      "language": "python",
      "name": "python3"
    },
    "language_info": {
      "codemirror_mode": {
        "name": "ipython",
        "version": 3
      },
      "file_extension": ".py",
      "mimetype": "text/x-python",
      "name": "python",
      "nbconvert_exporter": "python",
      "pygments_lexer": "ipython3",
      "version": "3.7.1"
    },
    "accelerator": "GPU"
  },
  "cells": [
    {
      "cell_type": "code",
      "metadata": {
        "id": "ebjpvHRMs71V",
        "colab": {
          "base_uri": "https://localhost:8080/"
        },
        "outputId": "c90f0dab-6a23-4ff4-c3e0-8fca5be81250"
      },
      "source": [
        "pip install livelossplot"
      ],
      "execution_count": null,
      "outputs": [
        {
          "output_type": "stream",
          "text": [
            "Requirement already satisfied: livelossplot in /usr/local/lib/python3.7/dist-packages (0.5.4)\n",
            "Requirement already satisfied: bokeh in /usr/local/lib/python3.7/dist-packages (from livelossplot) (2.3.1)\n",
            "Requirement already satisfied: matplotlib in /usr/local/lib/python3.7/dist-packages (from livelossplot) (3.2.2)\n",
            "Requirement already satisfied: ipython in /usr/local/lib/python3.7/dist-packages (from livelossplot) (5.5.0)\n",
            "Requirement already satisfied: Jinja2>=2.7 in /usr/local/lib/python3.7/dist-packages (from bokeh->livelossplot) (2.11.3)\n",
            "Requirement already satisfied: typing-extensions>=3.7.4 in /usr/local/lib/python3.7/dist-packages (from bokeh->livelossplot) (3.7.4.3)\n",
            "Requirement already satisfied: packaging>=16.8 in /usr/local/lib/python3.7/dist-packages (from bokeh->livelossplot) (20.9)\n",
            "Requirement already satisfied: python-dateutil>=2.1 in /usr/local/lib/python3.7/dist-packages (from bokeh->livelossplot) (2.8.1)\n",
            "Requirement already satisfied: tornado>=5.1 in /usr/local/lib/python3.7/dist-packages (from bokeh->livelossplot) (5.1.1)\n",
            "Requirement already satisfied: PyYAML>=3.10 in /usr/local/lib/python3.7/dist-packages (from bokeh->livelossplot) (3.13)\n",
            "Requirement already satisfied: numpy>=1.11.3 in /usr/local/lib/python3.7/dist-packages (from bokeh->livelossplot) (1.19.5)\n",
            "Requirement already satisfied: pillow>=7.1.0 in /usr/local/lib/python3.7/dist-packages (from bokeh->livelossplot) (7.1.2)\n",
            "Requirement already satisfied: kiwisolver>=1.0.1 in /usr/local/lib/python3.7/dist-packages (from matplotlib->livelossplot) (1.3.1)\n",
            "Requirement already satisfied: cycler>=0.10 in /usr/local/lib/python3.7/dist-packages (from matplotlib->livelossplot) (0.10.0)\n",
            "Requirement already satisfied: pyparsing!=2.0.4,!=2.1.2,!=2.1.6,>=2.0.1 in /usr/local/lib/python3.7/dist-packages (from matplotlib->livelossplot) (2.4.7)\n",
            "Requirement already satisfied: setuptools>=18.5 in /usr/local/lib/python3.7/dist-packages (from ipython->livelossplot) (54.2.0)\n",
            "Requirement already satisfied: prompt-toolkit<2.0.0,>=1.0.4 in /usr/local/lib/python3.7/dist-packages (from ipython->livelossplot) (1.0.18)\n",
            "Requirement already satisfied: simplegeneric>0.8 in /usr/local/lib/python3.7/dist-packages (from ipython->livelossplot) (0.8.1)\n",
            "Requirement already satisfied: pygments in /usr/local/lib/python3.7/dist-packages (from ipython->livelossplot) (2.6.1)\n",
            "Requirement already satisfied: pexpect; sys_platform != \"win32\" in /usr/local/lib/python3.7/dist-packages (from ipython->livelossplot) (4.8.0)\n",
            "Requirement already satisfied: pickleshare in /usr/local/lib/python3.7/dist-packages (from ipython->livelossplot) (0.7.5)\n",
            "Requirement already satisfied: traitlets>=4.2 in /usr/local/lib/python3.7/dist-packages (from ipython->livelossplot) (5.0.5)\n",
            "Requirement already satisfied: decorator in /usr/local/lib/python3.7/dist-packages (from ipython->livelossplot) (4.4.2)\n",
            "Requirement already satisfied: MarkupSafe>=0.23 in /usr/local/lib/python3.7/dist-packages (from Jinja2>=2.7->bokeh->livelossplot) (1.1.1)\n",
            "Requirement already satisfied: six>=1.5 in /usr/local/lib/python3.7/dist-packages (from python-dateutil>=2.1->bokeh->livelossplot) (1.15.0)\n",
            "Requirement already satisfied: wcwidth in /usr/local/lib/python3.7/dist-packages (from prompt-toolkit<2.0.0,>=1.0.4->ipython->livelossplot) (0.2.5)\n",
            "Requirement already satisfied: ptyprocess>=0.5 in /usr/local/lib/python3.7/dist-packages (from pexpect; sys_platform != \"win32\"->ipython->livelossplot) (0.7.0)\n",
            "Requirement already satisfied: ipython-genutils in /usr/local/lib/python3.7/dist-packages (from traitlets>=4.2->ipython->livelossplot) (0.2.0)\n"
          ],
          "name": "stdout"
        }
      ]
    },
    {
      "cell_type": "code",
      "metadata": {
        "id": "A6yk6MJ2KqtW",
        "colab": {
          "base_uri": "https://localhost:8080/"
        },
        "outputId": "49e82c13-1c08-4896-a65b-26fd9c1cea95"
      },
      "source": [
        "import numpy as np\n",
        "import keras\n",
        "from keras import backend as K\n",
        "from keras.models import Sequential\n",
        "from keras.layers import Activation\n",
        "from keras.layers.core import Dense, Flatten\n",
        "from keras.optimizers import Adam\n",
        "from keras.metrics import categorical_crossentropy\n",
        "from keras.preprocessing.image import ImageDataGenerator\n",
        "from keras.layers.normalization import BatchNormalization\n",
        "from keras.layers.convolutional import *\n",
        "from matplotlib import pyplot as plt\n",
        "from sklearn.metrics import confusion_matrix\n",
        "import itertools\n",
        "import matplotlib.pyplot as plt\n",
        "from PIL import Image\n",
        "%matplotlib inline\n",
        "print(keras.__version__)\n",
        "from tensorflow.python.client import device_lib\n",
        "print(device_lib.list_local_devices())"
      ],
      "execution_count": null,
      "outputs": [
        {
          "output_type": "stream",
          "text": [
            "2.4.3\n",
            "[name: \"/device:CPU:0\"\n",
            "device_type: \"CPU\"\n",
            "memory_limit: 268435456\n",
            "locality {\n",
            "}\n",
            "incarnation: 12904533969468495725\n",
            ", name: \"/device:GPU:0\"\n",
            "device_type: \"GPU\"\n",
            "memory_limit: 14674281152\n",
            "locality {\n",
            "  bus_id: 1\n",
            "  links {\n",
            "  }\n",
            "}\n",
            "incarnation: 8483016447326957240\n",
            "physical_device_desc: \"device: 0, name: Tesla T4, pci bus id: 0000:00:04.0, compute capability: 7.5\"\n",
            "]\n"
          ],
          "name": "stdout"
        }
      ]
    },
    {
      "cell_type": "code",
      "metadata": {
        "id": "yXYdl0I1Kqta"
      },
      "source": [
        "\n",
        "# Functions for later\n",
        "\n",
        "from sklearn.metrics import roc_auc_score\n",
        "from sklearn.metrics import roc_curve\n",
        "from tensorflow.keras.callbacks import Callback\n",
        "class roc_callback(Callback):\n",
        "    def __init__(self,training_data,validation_data):\n",
        "        self.x = training_data[0]\n",
        "        self.y = training_data[1]\n",
        "        self.x_val = validation_data[0]\n",
        "        self.y_val = validation_data[1]\n",
        "\n",
        "\n",
        "    def on_train_begin(self, logs={}):\n",
        "        self.params['metrics'].append('val_auc')\n",
        "        self.params['metrics'].append('auc')\n",
        "        self.params['metrics'].append('val_spec')\n",
        "        self.params['metrics'].append('spec')\n",
        "        return\n",
        "\n",
        "    def on_train_end(self, logs={}):\n",
        "        return\n",
        "\n",
        "    def on_epoch_begin(self, epoch, logs={}):\n",
        "        return\n",
        "\n",
        "    def on_epoch_end(self, epoch, logs={}):\n",
        "        y_pred = self.model.predict(self.x)\n",
        "        auc = roc_auc_score(self.y, y_pred)\n",
        "        fpr, tpr, thresholds = roc_curve(self.y[:, 1], y_pred[:, 1])\n",
        "        x = 0.95 # Sensitivity = 95%\n",
        "        xp = tpr\n",
        "        fp = fpr\n",
        "\n",
        "        y = np.interp(x, xp, fp)\n",
        "        specificity = 1-y\n",
        "\n",
        "        y_pred_val = self.model.predict(self.x_val)\n",
        "        auc_val = roc_auc_score(self.y_val[:,1], y_pred_val[:,1])\n",
        "        fpr, tpr, thresholds = roc_curve(self.y_val[:, 1], y_pred_val[:, 1])\n",
        "        x = 0.95\n",
        "        xp = tpr\n",
        "        fp = fpr\n",
        "        y = np.interp(x, xp, fp)\n",
        "        specificity_val = 1-y\n",
        "\n",
        "        logs['auc'] = auc\n",
        "        logs['val_auc'] = auc_val\n",
        "        logs['spec'] = specificity\n",
        "        logs['val_spec'] = specificity_val\n",
        "        return()\n",
        "\n",
        "    def on_batch_begin(self, batch, logs={}):\n",
        "        return\n",
        "\n",
        "    def on_batch_end(self, batch, logs={}):\n",
        "        return"
      ],
      "execution_count": null,
      "outputs": []
    },
    {
      "cell_type": "code",
      "metadata": {
        "id": "LCnt7aNZKqtb",
        "colab": {
          "base_uri": "https://localhost:8080/"
        },
        "outputId": "72ef58c3-adc4-43dc-b0a7-f0b14142dd82"
      },
      "source": [
        "from google.colab import drive\n",
        "drive.mount('/content/gdrive/', force_remount=True)\n",
        "\n",
        "\n"
      ],
      "execution_count": null,
      "outputs": [
        {
          "output_type": "stream",
          "text": [
            "Mounted at /content/gdrive/\n"
          ],
          "name": "stdout"
        }
      ]
    },
    {
      "cell_type": "code",
      "metadata": {
        "id": "hlL6Lo-CMJpS"
      },
      "source": [
        "train_path1 = 'gdrive/MyDrive/AyanScienceFair/ResizedTrainAll2/'\n",
        "test_path1 = 'gdrive/MyDrive/AyanScienceFair/ResizedTestAll2/'"
      ],
      "execution_count": null,
      "outputs": []
    },
    {
      "cell_type": "code",
      "metadata": {
        "colab": {
          "base_uri": "https://localhost:8080/"
        },
        "id": "lnblQV5lKqtc",
        "outputId": "bbc9b851-d74c-4d03-b38c-8f7eaf9bb2cd"
      },
      "source": [
        "# AMA Changes\n",
        "from keras.applications.resnet50 import preprocess_input\n",
        "#mygenerator = ImageDataGenerator(dtype='float32',\n",
        "#                                     preprocessing_function=preprocess_input, featurewise_center=True, featurewise_std_normalization=True)\n",
        "# Parameters learned from training images only; These will be applied to all images that are loaded\n",
        "mygenerator = ImageDataGenerator(dtype='float32',\n",
        "                                     preprocessing_function=preprocess_input, samplewise_center=True, samplewise_std_normalization=True)\n",
        "\n",
        "mygenerator.mean = 16\n",
        "mygenerator.std = 55.6\n",
        "\n",
        "#mygenerator = ImageDataGenerator(dtype='float32',\n",
        "                                     #preprocessing_function=preprocess_input, samplewise_center=True, samplewise_std_normalization=True)\n",
        "\n",
        "#mygenerator = ImageDataGenerator(dtype='float32',\n",
        "#                                     preprocessing_function=preprocess_input)\n",
        "\n",
        "\n",
        "#datagen.fit(trainX)\n",
        "# prepare an iterators to scale images\n",
        "#train_iterator = datagen.flow(trainX, trainY, batch_size=64)\n",
        "#test_iterator = datagen.flow(testX, testY, batch_size=64)\n",
        "\n",
        "train_batch = mygenerator.flow_from_directory(train_path1, target_size=(224, 224), color_mode='rgb',  class_mode = 'categorical',batch_size=2500)\n",
        "#train_batch = mygenerator.standardize(train_batch)\n",
        "\n",
        "# calculate mean on training dataset\n",
        "# mygenerator.fit(train_batch)\n",
        "\n",
        "\n",
        "\n",
        "#test_batch =mygenerator.flow_from_directory(test_path1, target_size=(224, 224), color_mode='grayscale',  classes ='categorical', batch_size=411)\n",
        "test_batch =mygenerator.flow_from_directory(test_path1, target_size=(224, 224), color_mode='rgb',  class_mode = 'categorical',batch_size=2500)"
      ],
      "execution_count": null,
      "outputs": [
        {
          "output_type": "stream",
          "text": [
            "Found 2939 images belonging to 2 classes.\n",
            "Found 830 images belonging to 2 classes.\n"
          ],
          "name": "stdout"
        }
      ]
    },
    {
      "cell_type": "code",
      "metadata": {
        "id": "kjuoPcrYul_a"
      },
      "source": [
        "#Train_imgs.shape[0]"
      ],
      "execution_count": null,
      "outputs": []
    },
    {
      "cell_type": "markdown",
      "metadata": {
        "id": "mOza7DZ5um1C"
      },
      "source": [
        "SET WHETHER DOING TRAINING OR TESTING"
      ]
    },
    {
      "cell_type": "code",
      "metadata": {
        "id": "gc4tLhEYurDx"
      },
      "source": [
        "trainFlag = False   # set to `True` for training; `False` for testing"
      ],
      "execution_count": null,
      "outputs": []
    },
    {
      "cell_type": "code",
      "metadata": {
        "id": "-gNQGdnFKqtd"
      },
      "source": [
        "if trainFlag:\n",
        "  import os.path\n",
        "  if os.path.exists(train_path1+'Train_imgs4.npy'):\n",
        "    Train_imgs = np.load(train_path1+'Train_imgs4.npy')\n",
        "    Train_labels= np.load(train_path1+'Train_labels4.npy')\n",
        "    Test_imgs, Test_labels = next(test_batch)\n",
        "  else:\n",
        "    Train_imgs, Train_labels = next(train_batch)\n",
        "    Test_imgs, Test_labels = next(test_batch)  # do this down below when actual do testing operation\n",
        "    Train_imgs.shape\n",
        "    np.save(train_path1+'Train_imgs4.npy',Train_imgs)\n",
        "    np.save(train_path1+'Train_labels4.npy',Train_labels)\n",
        ""
      ],
      "execution_count": null,
      "outputs": []
    },
    {
      "cell_type": "code",
      "metadata": {
        "id": "9cKSQROZKqte",
        "colab": {
          "base_uri": "https://localhost:8080/"
        },
        "outputId": "1ab3db5d-4c4b-4f23-c91b-ad48fdc83a85"
      },
      "source": [
        "if trainFlag:\n",
        "  # Make validation data\n",
        "  PercSplit = 0.8\n",
        "\n",
        "  Tlength = round(Train_imgs.shape[0]*PercSplit)\n",
        "\n",
        "  XTrain = Train_imgs[:Tlength-1, :, :, :]\n",
        "  #mean = (np.mean(XTrain[:, :, :, 0], dtype = XTrain.dtype),\n",
        "  #         np.mean(XTrain[:, :, :, 1], dtype = XTrain.dtype),\n",
        "  #         np.mean(XTrain[:, :, :, 2], dtype = XTrain.dtype))\n",
        "  #XTrain = XTrain - mean\n",
        "  YTrain = Train_labels[:Tlength-1, :]\n",
        "\n",
        "\n",
        "  XVal = Train_imgs[Tlength:, :, :]\n",
        "  YVal = Train_labels[Tlength:, :]\n",
        "\n",
        "\n",
        "  XTest = Test_imgs\n",
        "  YTest = Test_labels\n",
        "\n",
        "  print(XTrain.shape)\n",
        "  print(YTrain.shape)\n",
        "\n",
        "  print(XVal.shape)\n",
        "  print(YVal.shape)\n",
        "\n",
        "print(XTest.shape)\n",
        "\n"
      ],
      "execution_count": null,
      "outputs": [
        {
          "output_type": "stream",
          "text": [
            "(1999, 224, 224, 3)\n",
            "(1999, 2)\n",
            "(500, 224, 224, 3)\n",
            "(500, 2)\n",
            "(830, 224, 224, 3)\n"
          ],
          "name": "stdout"
        }
      ]
    },
    {
      "cell_type": "code",
      "metadata": {
        "id": "wnQGsa7tKqte"
      },
      "source": [
        "from tensorflow.keras.preprocessing.image import ImageDataGenerator\n",
        "from tensorflow.keras.models import Sequential\n",
        "from tensorflow.keras.layers import Conv2D, MaxPooling2D\n",
        "from tensorflow.keras.layers import Flatten, Dense, Dropout, Reshape, Permute, Activation, Input,Lambda\n",
        "from tensorflow.keras import backend as K\n",
        "from tensorflow.keras.callbacks import TensorBoard, ModelCheckpoint\n",
        "from tensorflow.keras import regularizers\n",
        "from tensorflow.keras import optimizers\n",
        "from tensorflow.keras.callbacks import EarlyStopping, ReduceLROnPlateau, ModelCheckpoint\n",
        "from tensorflow.keras.models import load_model, Model\n",
        "from tensorflow.keras.optimizers import SGD, Adam\n",
        "from tensorflow.keras.applications.resnet50 import ResNet50\n",
        "from tensorflow.keras.applications.resnet50 import preprocess_input\n",
        "#from livelossplot.inputs.tf_keras import PlotLossesCallback\n",
        "from livelossplot import PlotLossesKeras\n",
        "\n",
        "import os\n",
        "import numpy as np\n",
        "import tensorflow as tf\n",
        "import scipy\n",
        "import random\n",
        "from scipy import io\n",
        "\n",
        "import matplotlib.pyplot as plt\n",
        "import time"
      ],
      "execution_count": null,
      "outputs": []
    },
    {
      "cell_type": "code",
      "metadata": {
        "id": "oigU68pdKqtf",
        "colab": {
          "base_uri": "https://localhost:8080/",
          "height": 320
        },
        "outputId": "5a74a847-fe19-44fc-ca64-42a3c781b0b9"
      },
      "source": [
        "if trainFlag:\n",
        "  # Check images\n",
        "  iNow = 125\n",
        "  plt.imshow(XTrain[iNow,:,:,1]/255.)\n",
        "  XTrain[iNow,20:34,1,1]\n",
        "  print(\"max = \",np.max(XTrain[iNow,:,:,1]))\n",
        "  print(\"min = \",np.min(XTrain[iNow,:,:,1]))\n",
        "  print(\"mean = \",np.mean(XTrain[iNow,:,:,1]))\n",
        "  YVal[iNow]"
      ],
      "execution_count": null,
      "outputs": [
        {
          "output_type": "stream",
          "text": [
            "max =  7.0215273\n",
            "min =  -3.0565147\n",
            "mean =  -0.10284102\n"
          ],
          "name": "stdout"
        },
        {
          "output_type": "display_data",
          "data": {
            "image/png": "[encoded data removed]",
            "text/plain": [
              "<Figure size 432x288 with 1 Axes>"
            ]
          },
          "metadata": {
            "tags": [],
            "needs_background": "light"
          }
        }
      ]
    },
    {
      "cell_type": "code",
      "metadata": {
        "id": "kpD7_D_nREsL",
        "colab": {
          "base_uri": "https://localhost:8080/",
          "height": 299
        },
        "outputId": "a17ba14a-1840-4131-e2ae-d044e5bdbf33"
      },
      "source": [
        "# Sanity check to see if medians different between two groups\n",
        "if 1:\n",
        "  med1 =[]\n",
        "  med2 = []\n",
        "  mnl=[]\n",
        "  stdl=[]\n",
        "\n",
        "  for iNow in range(1587):\n",
        "    if(YTrain[iNow,0] == 0):\n",
        "      med1.append(np.median(XTrain[iNow,:,:,:]))\n",
        "    else:\n",
        "      med2.append(np.median(XTrain[iNow,:,:,:]))\n",
        "    mnl.append(np.mean(XTrain[iNow,:,:,:]))\n",
        "    stdl.append(np.std(XTrain[iNow,:,:,:]))\n",
        "\n",
        "  bins = 100\n",
        "  plt.hist(med1, bins, alpha=0.5, label='class 1')\n",
        "  plt.hist(med2, bins, alpha=0.5, label='class 2')\n",
        "  plt.legend(loc='upper right')\n",
        "  plt.show()\n",
        "  print('Prevalence Class 1: ',len(med1)/(len(med1)+len(med2)))\n",
        "  print('Train Images Mean:',np.mean(mnl), ' std:',np.mean(stdl))"
      ],
      "execution_count": null,
      "outputs": [
        {
          "output_type": "display_data",
          "data": {
            "image/png": "[encoded data removed]",
            "text/plain": [
              "<Figure size 432x288 with 1 Axes>"
            ]
          },
          "metadata": {
            "tags": [],
            "needs_background": "light"
          }
        },
        {
          "output_type": "stream",
          "text": [
            "Prevalence Class 1:  0.6962822936357907\n",
            "Train Images Mean: -6.2960694e-09  std: 1.0\n"
          ],
          "name": "stdout"
        }
      ]
    },
    {
      "cell_type": "markdown",
      "metadata": {
        "id": "OvRQxxeVKqtf"
      },
      "source": [
        "# RESNET Architecture"
      ]
    },
    {
      "cell_type": "code",
      "metadata": {
        "id": "Pcxx3Q1DKqtf",
        "colab": {
          "base_uri": "https://localhost:8080/"
        },
        "outputId": "22446308-e0a1-464f-9c41-b85568405b76"
      },
      "source": [
        "#Load the pre-trained model\n",
        "image_size = 224\n",
        "num_classes = 2\n",
        "base_lr = 1e-4\n",
        "min_lr = 1e-12\n",
        "Reg = 0.05\n",
        "Drop = 0\n",
        "\n",
        "base_model = ResNet50(weights='imagenet', include_top=True)\n",
        "\n",
        "#Add a fully connected layer with one output\n",
        "x = Dropout(Drop)(base_model.layers[-2].output)\n",
        "x = Dense(32, activation='sigmoid', kernel_regularizer=regularizers.l2(Reg))(x)\n",
        "#x = Dense(16, activation='relu', kernel_regularizer=regularizers.l2(Reg))(x)\n",
        "#x = Dropout(Drop)(x)\n",
        "predictions = Dense(num_classes, activation='softmax', kernel_regularizer=regularizers.l2(Reg))(x)\n",
        "model = Model(inputs = base_model.input, outputs = predictions )\n",
        "model.summary()\n",
        "\n",
        "for layer in base_model.layers[:-1]:\n",
        "    layer.trainable = True\n",
        "\n",
        "adm = Adam(lr = base_lr)\n",
        "# parallel_model = multi_gpu_model(model, gpus=4)\n",
        "model.compile(optimizer=adm, loss='binary_crossentropy', metrics=['accuracy'], sample_weight_mode = None)\n",
        "#from tensorflow.python.keras import optimizers\n",
        "\n",
        "\n",
        "#sgd = optimizers.SGD(lr = 0.01, decay = 1e-6, momentum = 0.9, nesterov = True)\n",
        "#model.compile(optimizer = sgd, loss = 'categorical_crossentropy', metrics = 'accuracy')\n"
      ],
      "execution_count": null,
      "outputs": [
        {
          "output_type": "stream",
          "text": [
            "Model: \"model\"\n",
            "__________________________________________________________________________________________________\n",
            "Layer (type)                    Output Shape         Param #     Connected to                     \n",
            "==================================================================================================\n",
            "input_1 (InputLayer)            [(None, 224, 224, 3) 0                                            \n",
            "__________________________________________________________________________________________________\n",
            "conv1_pad (ZeroPadding2D)       (None, 230, 230, 3)  0           input_1[0][0]                    \n",
            "__________________________________________________________________________________________________\n",
            "conv1_conv (Conv2D)             (None, 112, 112, 64) 9472        conv1_pad[0][0]                  \n",
            "__________________________________________________________________________________________________\n",
            "conv1_bn (BatchNormalization)   (None, 112, 112, 64) 256         conv1_conv[0][0]                 \n",
            "__________________________________________________________________________________________________\n",
            "conv1_relu (Activation)         (None, 112, 112, 64) 0           conv1_bn[0][0]                   \n",
            "__________________________________________________________________________________________________\n",
            "pool1_pad (ZeroPadding2D)       (None, 114, 114, 64) 0           conv1_relu[0][0]                 \n",
            "__________________________________________________________________________________________________\n",
            "pool1_pool (MaxPooling2D)       (None, 56, 56, 64)   0           pool1_pad[0][0]                  \n",
            "__________________________________________________________________________________________________\n",
            "conv2_block1_1_conv (Conv2D)    (None, 56, 56, 64)   4160        pool1_pool[0][0]                 \n",
            "__________________________________________________________________________________________________\n",
            "conv2_block1_1_bn (BatchNormali (None, 56, 56, 64)   256         conv2_block1_1_conv[0][0]        \n",
            "__________________________________________________________________________________________________\n",
            "conv2_block1_1_relu (Activation (None, 56, 56, 64)   0           conv2_block1_1_bn[0][0]          \n",
            "__________________________________________________________________________________________________\n",
            "conv2_block1_2_conv (Conv2D)    (None, 56, 56, 64)   36928       conv2_block1_1_relu[0][0]        \n",
            "__________________________________________________________________________________________________\n",
            "conv2_block1_2_bn (BatchNormali (None, 56, 56, 64)   256         conv2_block1_2_conv[0][0]        \n",
            "__________________________________________________________________________________________________\n",
            "conv2_block1_2_relu (Activation (None, 56, 56, 64)   0           conv2_block1_2_bn[0][0]          \n",
            "__________________________________________________________________________________________________\n",
            "conv2_block1_0_conv (Conv2D)    (None, 56, 56, 256)  16640       pool1_pool[0][0]                 \n",
            "__________________________________________________________________________________________________\n",
            "conv2_block1_3_conv (Conv2D)    (None, 56, 56, 256)  16640       conv2_block1_2_relu[0][0]        \n",
            "__________________________________________________________________________________________________\n",
            "conv2_block1_0_bn (BatchNormali (None, 56, 56, 256)  1024        conv2_block1_0_conv[0][0]        \n",
            "__________________________________________________________________________________________________\n",
            "conv2_block1_3_bn (BatchNormali (None, 56, 56, 256)  1024        conv2_block1_3_conv[0][0]        \n",
            "__________________________________________________________________________________________________\n",
            "conv2_block1_add (Add)          (None, 56, 56, 256)  0           conv2_block1_0_bn[0][0]          \n",
            "                                                                 conv2_block1_3_bn[0][0]          \n",
            "__________________________________________________________________________________________________\n",
            "conv2_block1_out (Activation)   (None, 56, 56, 256)  0           conv2_block1_add[0][0]           \n",
            "__________________________________________________________________________________________________\n",
            "conv2_block2_1_conv (Conv2D)    (None, 56, 56, 64)   16448       conv2_block1_out[0][0]           \n",
            "__________________________________________________________________________________________________\n",
            "conv2_block2_1_bn (BatchNormali (None, 56, 56, 64)   256         conv2_block2_1_conv[0][0]        \n",
            "__________________________________________________________________________________________________\n",
            "conv2_block2_1_relu (Activation (None, 56, 56, 64)   0           conv2_block2_1_bn[0][0]          \n",
            "__________________________________________________________________________________________________\n",
            "conv2_block2_2_conv (Conv2D)    (None, 56, 56, 64)   36928       conv2_block2_1_relu[0][0]        \n",
            "__________________________________________________________________________________________________\n",
            "conv2_block2_2_bn (BatchNormali (None, 56, 56, 64)   256         conv2_block2_2_conv[0][0]        \n",
            "__________________________________________________________________________________________________\n",
            "conv2_block2_2_relu (Activation (None, 56, 56, 64)   0           conv2_block2_2_bn[0][0]          \n",
            "__________________________________________________________________________________________________\n",
            "conv2_block2_3_conv (Conv2D)    (None, 56, 56, 256)  16640       conv2_block2_2_relu[0][0]        \n",
            "__________________________________________________________________________________________________\n",
            "conv2_block2_3_bn (BatchNormali (None, 56, 56, 256)  1024        conv2_block2_3_conv[0][0]        \n",
            "__________________________________________________________________________________________________\n",
            "conv2_block2_add (Add)          (None, 56, 56, 256)  0           conv2_block1_out[0][0]           \n",
            "                                                                 conv2_block2_3_bn[0][0]          \n",
            "__________________________________________________________________________________________________\n",
            "conv2_block2_out (Activation)   (None, 56, 56, 256)  0           conv2_block2_add[0][0]           \n",
            "__________________________________________________________________________________________________\n",
            "conv2_block3_1_conv (Conv2D)    (None, 56, 56, 64)   16448       conv2_block2_out[0][0]           \n",
            "__________________________________________________________________________________________________\n",
            "conv2_block3_1_bn (BatchNormali (None, 56, 56, 64)   256         conv2_block3_1_conv[0][0]        \n",
            "__________________________________________________________________________________________________\n",
            "conv2_block3_1_relu (Activation (None, 56, 56, 64)   0           conv2_block3_1_bn[0][0]          \n",
            "__________________________________________________________________________________________________\n",
            "conv2_block3_2_conv (Conv2D)    (None, 56, 56, 64)   36928       conv2_block3_1_relu[0][0]        \n",
            "__________________________________________________________________________________________________\n",
            "conv2_block3_2_bn (BatchNormali (None, 56, 56, 64)   256         conv2_block3_2_conv[0][0]        \n",
            "__________________________________________________________________________________________________\n",
            "conv2_block3_2_relu (Activation (None, 56, 56, 64)   0           conv2_block3_2_bn[0][0]          \n",
            "__________________________________________________________________________________________________\n",
            "conv2_block3_3_conv (Conv2D)    (None, 56, 56, 256)  16640       conv2_block3_2_relu[0][0]        \n",
            "__________________________________________________________________________________________________\n",
            "conv2_block3_3_bn (BatchNormali (None, 56, 56, 256)  1024        conv2_block3_3_conv[0][0]        \n",
            "__________________________________________________________________________________________________\n",
            "conv2_block3_add (Add)          (None, 56, 56, 256)  0           conv2_block2_out[0][0]           \n",
            "                                                                 conv2_block3_3_bn[0][0]          \n",
            "__________________________________________________________________________________________________\n",
            "conv2_block3_out (Activation)   (None, 56, 56, 256)  0           conv2_block3_add[0][0]           \n",
            "__________________________________________________________________________________________________\n",
            "conv3_block1_1_conv (Conv2D)    (None, 28, 28, 128)  32896       conv2_block3_out[0][0]           \n",
            "__________________________________________________________________________________________________\n",
            "conv3_block1_1_bn (BatchNormali (None, 28, 28, 128)  512         conv3_block1_1_conv[0][0]        \n",
            "__________________________________________________________________________________________________\n",
            "conv3_block1_1_relu (Activation (None, 28, 28, 128)  0           conv3_block1_1_bn[0][0]          \n",
            "__________________________________________________________________________________________________\n",
            "conv3_block1_2_conv (Conv2D)    (None, 28, 28, 128)  147584      conv3_block1_1_relu[0][0]        \n",
            "__________________________________________________________________________________________________\n",
            "conv3_block1_2_bn (BatchNormali (None, 28, 28, 128)  512         conv3_block1_2_conv[0][0]        \n",
            "__________________________________________________________________________________________________\n",
            "conv3_block1_2_relu (Activation (None, 28, 28, 128)  0           conv3_block1_2_bn[0][0]          \n",
            "__________________________________________________________________________________________________\n",
            "conv3_block1_0_conv (Conv2D)    (None, 28, 28, 512)  131584      conv2_block3_out[0][0]           \n",
            "__________________________________________________________________________________________________\n",
            "conv3_block1_3_conv (Conv2D)    (None, 28, 28, 512)  66048       conv3_block1_2_relu[0][0]        \n",
            "__________________________________________________________________________________________________\n",
            "conv3_block1_0_bn (BatchNormali (None, 28, 28, 512)  2048        conv3_block1_0_conv[0][0]        \n",
            "__________________________________________________________________________________________________\n",
            "conv3_block1_3_bn (BatchNormali (None, 28, 28, 512)  2048        conv3_block1_3_conv[0][0]        \n",
            "__________________________________________________________________________________________________\n",
            "conv3_block1_add (Add)          (None, 28, 28, 512)  0           conv3_block1_0_bn[0][0]          \n",
            "                                                                 conv3_block1_3_bn[0][0]          \n",
            "__________________________________________________________________________________________________\n",
            "conv3_block1_out (Activation)   (None, 28, 28, 512)  0           conv3_block1_add[0][0]           \n",
            "__________________________________________________________________________________________________\n",
            "conv3_block2_1_conv (Conv2D)    (None, 28, 28, 128)  65664       conv3_block1_out[0][0]           \n",
            "__________________________________________________________________________________________________\n",
            "conv3_block2_1_bn (BatchNormali (None, 28, 28, 128)  512         conv3_block2_1_conv[0][0]        \n",
            "__________________________________________________________________________________________________\n",
            "conv3_block2_1_relu (Activation (None, 28, 28, 128)  0           conv3_block2_1_bn[0][0]          \n",
            "__________________________________________________________________________________________________\n",
            "conv3_block2_2_conv (Conv2D)    (None, 28, 28, 128)  147584      conv3_block2_1_relu[0][0]        \n",
            "__________________________________________________________________________________________________\n",
            "conv3_block2_2_bn (BatchNormali (None, 28, 28, 128)  512         conv3_block2_2_conv[0][0]        \n",
            "__________________________________________________________________________________________________\n",
            "conv3_block2_2_relu (Activation (None, 28, 28, 128)  0           conv3_block2_2_bn[0][0]          \n",
            "__________________________________________________________________________________________________\n",
            "conv3_block2_3_conv (Conv2D)    (None, 28, 28, 512)  66048       conv3_block2_2_relu[0][0]        \n",
            "__________________________________________________________________________________________________\n",
            "conv3_block2_3_bn (BatchNormali (None, 28, 28, 512)  2048        conv3_block2_3_conv[0][0]        \n",
            "__________________________________________________________________________________________________\n",
            "conv3_block2_add (Add)          (None, 28, 28, 512)  0           conv3_block1_out[0][0]           \n",
            "                                                                 conv3_block2_3_bn[0][0]          \n",
            "__________________________________________________________________________________________________\n",
            "conv3_block2_out (Activation)   (None, 28, 28, 512)  0           conv3_block2_add[0][0]           \n",
            "__________________________________________________________________________________________________\n",
            "conv3_block3_1_conv (Conv2D)    (None, 28, 28, 128)  65664       conv3_block2_out[0][0]           \n",
            "__________________________________________________________________________________________________\n",
            "conv3_block3_1_bn (BatchNormali (None, 28, 28, 128)  512         conv3_block3_1_conv[0][0]        \n",
            "__________________________________________________________________________________________________\n",
            "conv3_block3_1_relu (Activation (None, 28, 28, 128)  0           conv3_block3_1_bn[0][0]          \n",
            "__________________________________________________________________________________________________\n",
            "conv3_block3_2_conv (Conv2D)    (None, 28, 28, 128)  147584      conv3_block3_1_relu[0][0]        \n",
            "__________________________________________________________________________________________________\n",
            "conv3_block3_2_bn (BatchNormali (None, 28, 28, 128)  512         conv3_block3_2_conv[0][0]        \n",
            "__________________________________________________________________________________________________\n",
            "conv3_block3_2_relu (Activation (None, 28, 28, 128)  0           conv3_block3_2_bn[0][0]          \n",
            "__________________________________________________________________________________________________\n",
            "conv3_block3_3_conv (Conv2D)    (None, 28, 28, 512)  66048       conv3_block3_2_relu[0][0]        \n",
            "__________________________________________________________________________________________________\n",
            "conv3_block3_3_bn (BatchNormali (None, 28, 28, 512)  2048        conv3_block3_3_conv[0][0]        \n",
            "__________________________________________________________________________________________________\n",
            "conv3_block3_add (Add)          (None, 28, 28, 512)  0           conv3_block2_out[0][0]           \n",
            "                                                                 conv3_block3_3_bn[0][0]          \n",
            "__________________________________________________________________________________________________\n",
            "conv3_block3_out (Activation)   (None, 28, 28, 512)  0           conv3_block3_add[0][0]           \n",
            "__________________________________________________________________________________________________\n",
            "conv3_block4_1_conv (Conv2D)    (None, 28, 28, 128)  65664       conv3_block3_out[0][0]           \n",
            "__________________________________________________________________________________________________\n",
            "conv3_block4_1_bn (BatchNormali (None, 28, 28, 128)  512         conv3_block4_1_conv[0][0]        \n",
            "__________________________________________________________________________________________________\n",
            "conv3_block4_1_relu (Activation (None, 28, 28, 128)  0           conv3_block4_1_bn[0][0]          \n",
            "__________________________________________________________________________________________________\n",
            "conv3_block4_2_conv (Conv2D)    (None, 28, 28, 128)  147584      conv3_block4_1_relu[0][0]        \n",
            "__________________________________________________________________________________________________\n",
            "conv3_block4_2_bn (BatchNormali (None, 28, 28, 128)  512         conv3_block4_2_conv[0][0]        \n",
            "__________________________________________________________________________________________________\n",
            "conv3_block4_2_relu (Activation (None, 28, 28, 128)  0           conv3_block4_2_bn[0][0]          \n",
            "__________________________________________________________________________________________________\n",
            "conv3_block4_3_conv (Conv2D)    (None, 28, 28, 512)  66048       conv3_block4_2_relu[0][0]        \n",
            "__________________________________________________________________________________________________\n",
            "conv3_block4_3_bn (BatchNormali (None, 28, 28, 512)  2048        conv3_block4_3_conv[0][0]        \n",
            "__________________________________________________________________________________________________\n",
            "conv3_block4_add (Add)          (None, 28, 28, 512)  0           conv3_block3_out[0][0]           \n",
            "                                                                 conv3_block4_3_bn[0][0]          \n",
            "__________________________________________________________________________________________________\n",
            "conv3_block4_out (Activation)   (None, 28, 28, 512)  0           conv3_block4_add[0][0]           \n",
            "__________________________________________________________________________________________________\n",
            "conv4_block1_1_conv (Conv2D)    (None, 14, 14, 256)  131328      conv3_block4_out[0][0]           \n",
            "__________________________________________________________________________________________________\n",
            "conv4_block1_1_bn (BatchNormali (None, 14, 14, 256)  1024        conv4_block1_1_conv[0][0]        \n",
            "__________________________________________________________________________________________________\n",
            "conv4_block1_1_relu (Activation (None, 14, 14, 256)  0           conv4_block1_1_bn[0][0]          \n",
            "__________________________________________________________________________________________________\n",
            "conv4_block1_2_conv (Conv2D)    (None, 14, 14, 256)  590080      conv4_block1_1_relu[0][0]        \n",
            "__________________________________________________________________________________________________\n",
            "conv4_block1_2_bn (BatchNormali (None, 14, 14, 256)  1024        conv4_block1_2_conv[0][0]        \n",
            "__________________________________________________________________________________________________\n",
            "conv4_block1_2_relu (Activation (None, 14, 14, 256)  0           conv4_block1_2_bn[0][0]          \n",
            "__________________________________________________________________________________________________\n",
            "conv4_block1_0_conv (Conv2D)    (None, 14, 14, 1024) 525312      conv3_block4_out[0][0]           \n",
            "__________________________________________________________________________________________________\n",
            "conv4_block1_3_conv (Conv2D)    (None, 14, 14, 1024) 263168      conv4_block1_2_relu[0][0]        \n",
            "__________________________________________________________________________________________________\n",
            "conv4_block1_0_bn (BatchNormali (None, 14, 14, 1024) 4096        conv4_block1_0_conv[0][0]        \n",
            "__________________________________________________________________________________________________\n",
            "conv4_block1_3_bn (BatchNormali (None, 14, 14, 1024) 4096        conv4_block1_3_conv[0][0]        \n",
            "__________________________________________________________________________________________________\n",
            "conv4_block1_add (Add)          (None, 14, 14, 1024) 0           conv4_block1_0_bn[0][0]          \n",
            "                                                                 conv4_block1_3_bn[0][0]          \n",
            "__________________________________________________________________________________________________\n",
            "conv4_block1_out (Activation)   (None, 14, 14, 1024) 0           conv4_block1_add[0][0]           \n",
            "__________________________________________________________________________________________________\n",
            "conv4_block2_1_conv (Conv2D)    (None, 14, 14, 256)  262400      conv4_block1_out[0][0]           \n",
            "__________________________________________________________________________________________________\n",
            "conv4_block2_1_bn (BatchNormali (None, 14, 14, 256)  1024        conv4_block2_1_conv[0][0]        \n",
            "__________________________________________________________________________________________________\n",
            "conv4_block2_1_relu (Activation (None, 14, 14, 256)  0           conv4_block2_1_bn[0][0]          \n",
            "__________________________________________________________________________________________________\n",
            "conv4_block2_2_conv (Conv2D)    (None, 14, 14, 256)  590080      conv4_block2_1_relu[0][0]        \n",
            "__________________________________________________________________________________________________\n",
            "conv4_block2_2_bn (BatchNormali (None, 14, 14, 256)  1024        conv4_block2_2_conv[0][0]        \n",
            "__________________________________________________________________________________________________\n",
            "conv4_block2_2_relu (Activation (None, 14, 14, 256)  0           conv4_block2_2_bn[0][0]          \n",
            "__________________________________________________________________________________________________\n",
            "conv4_block2_3_conv (Conv2D)    (None, 14, 14, 1024) 263168      conv4_block2_2_relu[0][0]        \n",
            "__________________________________________________________________________________________________\n",
            "conv4_block2_3_bn (BatchNormali (None, 14, 14, 1024) 4096        conv4_block2_3_conv[0][0]        \n",
            "__________________________________________________________________________________________________\n",
            "conv4_block2_add (Add)          (None, 14, 14, 1024) 0           conv4_block1_out[0][0]           \n",
            "                                                                 conv4_block2_3_bn[0][0]          \n",
            "__________________________________________________________________________________________________\n",
            "conv4_block2_out (Activation)   (None, 14, 14, 1024) 0           conv4_block2_add[0][0]           \n",
            "__________________________________________________________________________________________________\n",
            "conv4_block3_1_conv (Conv2D)    (None, 14, 14, 256)  262400      conv4_block2_out[0][0]           \n",
            "__________________________________________________________________________________________________\n",
            "conv4_block3_1_bn (BatchNormali (None, 14, 14, 256)  1024        conv4_block3_1_conv[0][0]        \n",
            "__________________________________________________________________________________________________\n",
            "conv4_block3_1_relu (Activation (None, 14, 14, 256)  0           conv4_block3_1_bn[0][0]          \n",
            "__________________________________________________________________________________________________\n",
            "conv4_block3_2_conv (Conv2D)    (None, 14, 14, 256)  590080      conv4_block3_1_relu[0][0]        \n",
            "__________________________________________________________________________________________________\n",
            "conv4_block3_2_bn (BatchNormali (None, 14, 14, 256)  1024        conv4_block3_2_conv[0][0]        \n",
            "__________________________________________________________________________________________________\n",
            "conv4_block3_2_relu (Activation (None, 14, 14, 256)  0           conv4_block3_2_bn[0][0]          \n",
            "__________________________________________________________________________________________________\n",
            "conv4_block3_3_conv (Conv2D)    (None, 14, 14, 1024) 263168      conv4_block3_2_relu[0][0]        \n",
            "__________________________________________________________________________________________________\n",
            "conv4_block3_3_bn (BatchNormali (None, 14, 14, 1024) 4096        conv4_block3_3_conv[0][0]        \n",
            "__________________________________________________________________________________________________\n",
            "conv4_block3_add (Add)          (None, 14, 14, 1024) 0           conv4_block2_out[0][0]           \n",
            "                                                                 conv4_block3_3_bn[0][0]          \n",
            "__________________________________________________________________________________________________\n",
            "conv4_block3_out (Activation)   (None, 14, 14, 1024) 0           conv4_block3_add[0][0]           \n",
            "__________________________________________________________________________________________________\n",
            "conv4_block4_1_conv (Conv2D)    (None, 14, 14, 256)  262400      conv4_block3_out[0][0]           \n",
            "__________________________________________________________________________________________________\n",
            "conv4_block4_1_bn (BatchNormali (None, 14, 14, 256)  1024        conv4_block4_1_conv[0][0]        \n",
            "__________________________________________________________________________________________________\n",
            "conv4_block4_1_relu (Activation (None, 14, 14, 256)  0           conv4_block4_1_bn[0][0]          \n",
            "__________________________________________________________________________________________________\n",
            "conv4_block4_2_conv (Conv2D)    (None, 14, 14, 256)  590080      conv4_block4_1_relu[0][0]        \n",
            "__________________________________________________________________________________________________\n",
            "conv4_block4_2_bn (BatchNormali (None, 14, 14, 256)  1024        conv4_block4_2_conv[0][0]        \n",
            "__________________________________________________________________________________________________\n",
            "conv4_block4_2_relu (Activation (None, 14, 14, 256)  0           conv4_block4_2_bn[0][0]          \n",
            "__________________________________________________________________________________________________\n",
            "conv4_block4_3_conv (Conv2D)    (None, 14, 14, 1024) 263168      conv4_block4_2_relu[0][0]        \n",
            "__________________________________________________________________________________________________\n",
            "conv4_block4_3_bn (BatchNormali (None, 14, 14, 1024) 4096        conv4_block4_3_conv[0][0]        \n",
            "__________________________________________________________________________________________________\n",
            "conv4_block4_add (Add)          (None, 14, 14, 1024) 0           conv4_block3_out[0][0]           \n",
            "                                                                 conv4_block4_3_bn[0][0]          \n",
            "__________________________________________________________________________________________________\n",
            "conv4_block4_out (Activation)   (None, 14, 14, 1024) 0           conv4_block4_add[0][0]           \n",
            "__________________________________________________________________________________________________\n",
            "conv4_block5_1_conv (Conv2D)    (None, 14, 14, 256)  262400      conv4_block4_out[0][0]           \n",
            "__________________________________________________________________________________________________\n",
            "conv4_block5_1_bn (BatchNormali (None, 14, 14, 256)  1024        conv4_block5_1_conv[0][0]        \n",
            "__________________________________________________________________________________________________\n",
            "conv4_block5_1_relu (Activation (None, 14, 14, 256)  0           conv4_block5_1_bn[0][0]          \n",
            "__________________________________________________________________________________________________\n",
            "conv4_block5_2_conv (Conv2D)    (None, 14, 14, 256)  590080      conv4_block5_1_relu[0][0]        \n",
            "__________________________________________________________________________________________________\n",
            "conv4_block5_2_bn (BatchNormali (None, 14, 14, 256)  1024        conv4_block5_2_conv[0][0]        \n",
            "__________________________________________________________________________________________________\n",
            "conv4_block5_2_relu (Activation (None, 14, 14, 256)  0           conv4_block5_2_bn[0][0]          \n",
            "__________________________________________________________________________________________________\n",
            "conv4_block5_3_conv (Conv2D)    (None, 14, 14, 1024) 263168      conv4_block5_2_relu[0][0]        \n",
            "__________________________________________________________________________________________________\n",
            "conv4_block5_3_bn (BatchNormali (None, 14, 14, 1024) 4096        conv4_block5_3_conv[0][0]        \n",
            "__________________________________________________________________________________________________\n",
            "conv4_block5_add (Add)          (None, 14, 14, 1024) 0           conv4_block4_out[0][0]           \n",
            "                                                                 conv4_block5_3_bn[0][0]          \n",
            "__________________________________________________________________________________________________\n",
            "conv4_block5_out (Activation)   (None, 14, 14, 1024) 0           conv4_block5_add[0][0]           \n",
            "__________________________________________________________________________________________________\n",
            "conv4_block6_1_conv (Conv2D)    (None, 14, 14, 256)  262400      conv4_block5_out[0][0]           \n",
            "__________________________________________________________________________________________________\n",
            "conv4_block6_1_bn (BatchNormali (None, 14, 14, 256)  1024        conv4_block6_1_conv[0][0]        \n",
            "__________________________________________________________________________________________________\n",
            "conv4_block6_1_relu (Activation (None, 14, 14, 256)  0           conv4_block6_1_bn[0][0]          \n",
            "__________________________________________________________________________________________________\n",
            "conv4_block6_2_conv (Conv2D)    (None, 14, 14, 256)  590080      conv4_block6_1_relu[0][0]        \n",
            "__________________________________________________________________________________________________\n",
            "conv4_block6_2_bn (BatchNormali (None, 14, 14, 256)  1024        conv4_block6_2_conv[0][0]        \n",
            "__________________________________________________________________________________________________\n",
            "conv4_block6_2_relu (Activation (None, 14, 14, 256)  0           conv4_block6_2_bn[0][0]          \n",
            "__________________________________________________________________________________________________\n",
            "conv4_block6_3_conv (Conv2D)    (None, 14, 14, 1024) 263168      conv4_block6_2_relu[0][0]        \n",
            "__________________________________________________________________________________________________\n",
            "conv4_block6_3_bn (BatchNormali (None, 14, 14, 1024) 4096        conv4_block6_3_conv[0][0]        \n",
            "__________________________________________________________________________________________________\n",
            "conv4_block6_add (Add)          (None, 14, 14, 1024) 0           conv4_block5_out[0][0]           \n",
            "                                                                 conv4_block6_3_bn[0][0]          \n",
            "__________________________________________________________________________________________________\n",
            "conv4_block6_out (Activation)   (None, 14, 14, 1024) 0           conv4_block6_add[0][0]           \n",
            "__________________________________________________________________________________________________\n",
            "conv5_block1_1_conv (Conv2D)    (None, 7, 7, 512)    524800      conv4_block6_out[0][0]           \n",
            "__________________________________________________________________________________________________\n",
            "conv5_block1_1_bn (BatchNormali (None, 7, 7, 512)    2048        conv5_block1_1_conv[0][0]        \n",
            "__________________________________________________________________________________________________\n",
            "conv5_block1_1_relu (Activation (None, 7, 7, 512)    0           conv5_block1_1_bn[0][0]          \n",
            "__________________________________________________________________________________________________\n",
            "conv5_block1_2_conv (Conv2D)    (None, 7, 7, 512)    2359808     conv5_block1_1_relu[0][0]        \n",
            "__________________________________________________________________________________________________\n",
            "conv5_block1_2_bn (BatchNormali (None, 7, 7, 512)    2048        conv5_block1_2_conv[0][0]        \n",
            "__________________________________________________________________________________________________\n",
            "conv5_block1_2_relu (Activation (None, 7, 7, 512)    0           conv5_block1_2_bn[0][0]          \n",
            "__________________________________________________________________________________________________\n",
            "conv5_block1_0_conv (Conv2D)    (None, 7, 7, 2048)   2099200     conv4_block6_out[0][0]           \n",
            "__________________________________________________________________________________________________\n",
            "conv5_block1_3_conv (Conv2D)    (None, 7, 7, 2048)   1050624     conv5_block1_2_relu[0][0]        \n",
            "__________________________________________________________________________________________________\n",
            "conv5_block1_0_bn (BatchNormali (None, 7, 7, 2048)   8192        conv5_block1_0_conv[0][0]        \n",
            "__________________________________________________________________________________________________\n",
            "conv5_block1_3_bn (BatchNormali (None, 7, 7, 2048)   8192        conv5_block1_3_conv[0][0]        \n",
            "__________________________________________________________________________________________________\n",
            "conv5_block1_add (Add)          (None, 7, 7, 2048)   0           conv5_block1_0_bn[0][0]          \n",
            "                                                                 conv5_block1_3_bn[0][0]          \n",
            "__________________________________________________________________________________________________\n",
            "conv5_block1_out (Activation)   (None, 7, 7, 2048)   0           conv5_block1_add[0][0]           \n",
            "__________________________________________________________________________________________________\n",
            "conv5_block2_1_conv (Conv2D)    (None, 7, 7, 512)    1049088     conv5_block1_out[0][0]           \n",
            "__________________________________________________________________________________________________\n",
            "conv5_block2_1_bn (BatchNormali (None, 7, 7, 512)    2048        conv5_block2_1_conv[0][0]        \n",
            "__________________________________________________________________________________________________\n",
            "conv5_block2_1_relu (Activation (None, 7, 7, 512)    0           conv5_block2_1_bn[0][0]          \n",
            "__________________________________________________________________________________________________\n",
            "conv5_block2_2_conv (Conv2D)    (None, 7, 7, 512)    2359808     conv5_block2_1_relu[0][0]        \n",
            "__________________________________________________________________________________________________\n",
            "conv5_block2_2_bn (BatchNormali (None, 7, 7, 512)    2048        conv5_block2_2_conv[0][0]        \n",
            "__________________________________________________________________________________________________\n",
            "conv5_block2_2_relu (Activation (None, 7, 7, 512)    0           conv5_block2_2_bn[0][0]          \n",
            "__________________________________________________________________________________________________\n",
            "conv5_block2_3_conv (Conv2D)    (None, 7, 7, 2048)   1050624     conv5_block2_2_relu[0][0]        \n",
            "__________________________________________________________________________________________________\n",
            "conv5_block2_3_bn (BatchNormali (None, 7, 7, 2048)   8192        conv5_block2_3_conv[0][0]        \n",
            "__________________________________________________________________________________________________\n",
            "conv5_block2_add (Add)          (None, 7, 7, 2048)   0           conv5_block1_out[0][0]           \n",
            "                                                                 conv5_block2_3_bn[0][0]          \n",
            "__________________________________________________________________________________________________\n",
            "conv5_block2_out (Activation)   (None, 7, 7, 2048)   0           conv5_block2_add[0][0]           \n",
            "__________________________________________________________________________________________________\n",
            "conv5_block3_1_conv (Conv2D)    (None, 7, 7, 512)    1049088     conv5_block2_out[0][0]           \n",
            "__________________________________________________________________________________________________\n",
            "conv5_block3_1_bn (BatchNormali (None, 7, 7, 512)    2048        conv5_block3_1_conv[0][0]        \n",
            "__________________________________________________________________________________________________\n",
            "conv5_block3_1_relu (Activation (None, 7, 7, 512)    0           conv5_block3_1_bn[0][0]          \n",
            "__________________________________________________________________________________________________\n",
            "conv5_block3_2_conv (Conv2D)    (None, 7, 7, 512)    2359808     conv5_block3_1_relu[0][0]        \n",
            "__________________________________________________________________________________________________\n",
            "conv5_block3_2_bn (BatchNormali (None, 7, 7, 512)    2048        conv5_block3_2_conv[0][0]        \n",
            "__________________________________________________________________________________________________\n",
            "conv5_block3_2_relu (Activation (None, 7, 7, 512)    0           conv5_block3_2_bn[0][0]          \n",
            "__________________________________________________________________________________________________\n",
            "conv5_block3_3_conv (Conv2D)    (None, 7, 7, 2048)   1050624     conv5_block3_2_relu[0][0]        \n",
            "__________________________________________________________________________________________________\n",
            "conv5_block3_3_bn (BatchNormali (None, 7, 7, 2048)   8192        conv5_block3_3_conv[0][0]        \n",
            "__________________________________________________________________________________________________\n",
            "conv5_block3_add (Add)          (None, 7, 7, 2048)   0           conv5_block2_out[0][0]           \n",
            "                                                                 conv5_block3_3_bn[0][0]          \n",
            "__________________________________________________________________________________________________\n",
            "conv5_block3_out (Activation)   (None, 7, 7, 2048)   0           conv5_block3_add[0][0]           \n",
            "__________________________________________________________________________________________________\n",
            "avg_pool (GlobalAveragePooling2 (None, 2048)         0           conv5_block3_out[0][0]           \n",
            "__________________________________________________________________________________________________\n",
            "dropout (Dropout)               (None, 2048)         0           avg_pool[0][0]                   \n",
            "__________________________________________________________________________________________________\n",
            "dense (Dense)                   (None, 32)           65568       dropout[0][0]                    \n",
            "__________________________________________________________________________________________________\n",
            "dense_1 (Dense)                 (None, 2)            66          dense[0][0]                      \n",
            "==================================================================================================\n",
            "Total params: 23,653,346\n",
            "Trainable params: 23,600,226\n",
            "Non-trainable params: 53,120\n",
            "__________________________________________________________________________________________________\n"
          ],
          "name": "stdout"
        }
      ]
    },
    {
      "cell_type": "code",
      "metadata": {
        "id": "a4iEV4IRKqth",
        "colab": {
          "base_uri": "https://localhost:8080/"
        },
        "outputId": "f9fcbba4-9916-43ad-b481-73b7097846b3"
      },
      "source": [
        "# # Check the trainable status of the individual layers\n",
        "for layer in model.layers:\n",
        "     print(layer, layer.trainable)"
      ],
      "execution_count": null,
      "outputs": [
        {
          "output_type": "stream",
          "text": [
            "<tensorflow.python.keras.engine.input_layer.InputLayer object at 0x7faf24960f10> True\n",
            "<tensorflow.python.keras.layers.convolutional.ZeroPadding2D object at 0x7faf221d8390> True\n",
            "<tensorflow.python.keras.layers.convolutional.Conv2D object at 0x7faf2219d610> True\n",
            "<tensorflow.python.keras.layers.normalization_v2.BatchNormalization object at 0x7faf22129a90> True\n",
            "<tensorflow.python.keras.layers.core.Activation object at 0x7faf24960bd0> True\n",
            "<tensorflow.python.keras.layers.convolutional.ZeroPadding2D object at 0x7faf21095310> True\n",
            "<tensorflow.python.keras.layers.pooling.MaxPooling2D object at 0x7faf21095550> True\n",
            "<tensorflow.python.keras.layers.convolutional.Conv2D object at 0x7faf220cbc10> True\n",
            "<tensorflow.python.keras.layers.normalization_v2.BatchNormalization object at 0x7faf210a0550> True\n",
            "<tensorflow.python.keras.layers.core.Activation object at 0x7faf2102d950> True\n",
            "<tensorflow.python.keras.layers.convolutional.Conv2D object at 0x7faf221297d0> True\n",
            "<tensorflow.python.keras.layers.normalization_v2.BatchNormalization object at 0x7faf21033ed0> True\n",
            "<tensorflow.python.keras.layers.core.Activation object at 0x7faf2103e950> True\n",
            "<tensorflow.python.keras.layers.convolutional.Conv2D object at 0x7faf210710d0> True\n",
            "<tensorflow.python.keras.layers.convolutional.Conv2D object at 0x7faf21041cd0> True\n",
            "<tensorflow.python.keras.layers.normalization_v2.BatchNormalization object at 0x7faf221d6fd0> True\n",
            "<tensorflow.python.keras.layers.normalization_v2.BatchNormalization object at 0x7faf21047950> True\n",
            "<tensorflow.python.keras.layers.merge.Add object at 0x7faf2102df50> True\n",
            "<tensorflow.python.keras.layers.core.Activation object at 0x7faf21050390> True\n",
            "<tensorflow.python.keras.layers.convolutional.Conv2D object at 0x7faf21054850> True\n",
            "<tensorflow.python.keras.layers.normalization_v2.BatchNormalization object at 0x7faf2102d9d0> True\n",
            "<tensorflow.python.keras.layers.core.Activation object at 0x7faf221d65d0> True\n",
            "<tensorflow.python.keras.layers.convolutional.Conv2D object at 0x7faf2106a310> True\n",
            "<tensorflow.python.keras.layers.normalization_v2.BatchNormalization object at 0x7faf21063e90> True\n",
            "<tensorflow.python.keras.layers.core.Activation object at 0x7faf21050ed0> True\n",
            "<tensorflow.python.keras.layers.convolutional.Conv2D object at 0x7faf20ff26d0> True\n",
            "<tensorflow.python.keras.layers.normalization_v2.BatchNormalization object at 0x7faf20ff7f90> True\n",
            "<tensorflow.python.keras.layers.merge.Add object at 0x7faf2105af90> True\n",
            "<tensorflow.python.keras.layers.core.Activation object at 0x7faf20ffdd90> True\n",
            "<tensorflow.python.keras.layers.convolutional.Conv2D object at 0x7faf21006b90> True\n",
            "<tensorflow.python.keras.layers.normalization_v2.BatchNormalization object at 0x7faf2219d510> True\n",
            "<tensorflow.python.keras.layers.core.Activation object at 0x7faf21063150> True\n",
            "<tensorflow.python.keras.layers.convolutional.Conv2D object at 0x7faf210135d0> True\n",
            "<tensorflow.python.keras.layers.normalization_v2.BatchNormalization object at 0x7faf21017a10> True\n",
            "<tensorflow.python.keras.layers.core.Activation object at 0x7faf21011710> True\n",
            "<tensorflow.python.keras.layers.convolutional.Conv2D object at 0x7faf21022810> True\n",
            "<tensorflow.python.keras.layers.normalization_v2.BatchNormalization object at 0x7faf20fb0a50> True\n",
            "<tensorflow.python.keras.layers.merge.Add object at 0x7faf21004590> True\n",
            "<tensorflow.python.keras.layers.core.Activation object at 0x7faf20fb3dd0> True\n",
            "<tensorflow.python.keras.layers.convolutional.Conv2D object at 0x7faf20fb3e90> True\n",
            "<tensorflow.python.keras.layers.normalization_v2.BatchNormalization object at 0x7faf20fcf310> True\n",
            "<tensorflow.python.keras.layers.core.Activation object at 0x7faf20fd7f10> True\n",
            "<tensorflow.python.keras.layers.convolutional.Conv2D object at 0x7faf20fcfe90> True\n",
            "<tensorflow.python.keras.layers.normalization_v2.BatchNormalization object at 0x7faf20fdf610> True\n",
            "<tensorflow.python.keras.layers.core.Activation object at 0x7faf20fe45d0> True\n",
            "<tensorflow.python.keras.layers.convolutional.Conv2D object at 0x7faf20fbcbd0> True\n",
            "<tensorflow.python.keras.layers.convolutional.Conv2D object at 0x7faf20fdfed0> True\n",
            "<tensorflow.python.keras.layers.normalization_v2.BatchNormalization object at 0x7faf20fc3bd0> True\n",
            "<tensorflow.python.keras.layers.normalization_v2.BatchNormalization object at 0x7faf20fbcf10> True\n",
            "<tensorflow.python.keras.layers.merge.Add object at 0x7faf20fbc650> True\n",
            "<tensorflow.python.keras.layers.core.Activation object at 0x7faf20fee650> True\n",
            "<tensorflow.python.keras.layers.convolutional.Conv2D object at 0x7faf20ff71d0> True\n",
            "<tensorflow.python.keras.layers.normalization_v2.BatchNormalization object at 0x7faf2104bbd0> True\n",
            "<tensorflow.python.keras.layers.core.Activation object at 0x7faf210a5850> True\n",
            "<tensorflow.python.keras.layers.convolutional.Conv2D object at 0x7faf2103e7d0> True\n",
            "<tensorflow.python.keras.layers.normalization_v2.BatchNormalization object at 0x7faf20f71810> True\n",
            "<tensorflow.python.keras.layers.core.Activation object at 0x7faf20f71950> True\n",
            "<tensorflow.python.keras.layers.convolutional.Conv2D object at 0x7faf20f73e50> True\n",
            "<tensorflow.python.keras.layers.normalization_v2.BatchNormalization object at 0x7faf20f7b550> True\n",
            "<tensorflow.python.keras.layers.merge.Add object at 0x7faf20f86710> True\n",
            "<tensorflow.python.keras.layers.core.Activation object at 0x7faf20f8b350> True\n",
            "<tensorflow.python.keras.layers.convolutional.Conv2D object at 0x7faf20f767d0> True\n",
            "<tensorflow.python.keras.layers.normalization_v2.BatchNormalization object at 0x7faf20f8e250> True\n",
            "<tensorflow.python.keras.layers.core.Activation object at 0x7faf20f98410> True\n",
            "<tensorflow.python.keras.layers.convolutional.Conv2D object at 0x7faf20f93350> True\n",
            "<tensorflow.python.keras.layers.normalization_v2.BatchNormalization object at 0x7faf20fa3990> True\n",
            "<tensorflow.python.keras.layers.core.Activation object at 0x7faf20fa3ad0> True\n",
            "<tensorflow.python.keras.layers.convolutional.Conv2D object at 0x7faf20fa5f50> True\n",
            "<tensorflow.python.keras.layers.normalization_v2.BatchNormalization object at 0x7faf20f36750> True\n",
            "<tensorflow.python.keras.layers.merge.Add object at 0x7faf20f41a50> True\n",
            "<tensorflow.python.keras.layers.core.Activation object at 0x7faf20f446d0> True\n",
            "<tensorflow.python.keras.layers.convolutional.Conv2D object at 0x7faf20f31e50> True\n",
            "<tensorflow.python.keras.layers.normalization_v2.BatchNormalization object at 0x7faf20f4c690> True\n",
            "<tensorflow.python.keras.layers.core.Activation object at 0x7faf20f559d0> True\n",
            "<tensorflow.python.keras.layers.convolutional.Conv2D object at 0x7faf20f4c610> True\n",
            "<tensorflow.python.keras.layers.normalization_v2.BatchNormalization object at 0x7faf20f60c10> True\n",
            "<tensorflow.python.keras.layers.core.Activation object at 0x7faf220cb8d0> True\n",
            "<tensorflow.python.keras.layers.convolutional.Conv2D object at 0x7faf20f54c10> True\n",
            "<tensorflow.python.keras.layers.normalization_v2.BatchNormalization object at 0x7faf20ef4990> True\n",
            "<tensorflow.python.keras.layers.merge.Add object at 0x7faf221d6650> True\n",
            "<tensorflow.python.keras.layers.core.Activation object at 0x7faf20f018d0> True\n",
            "<tensorflow.python.keras.layers.convolutional.Conv2D object at 0x7faf20f17b10> True\n",
            "<tensorflow.python.keras.layers.normalization_v2.BatchNormalization object at 0x7faf20f0a950> True\n",
            "<tensorflow.python.keras.layers.core.Activation object at 0x7faf20f1ed50> True\n",
            "<tensorflow.python.keras.layers.convolutional.Conv2D object at 0x7faf20f233d0> True\n",
            "<tensorflow.python.keras.layers.normalization_v2.BatchNormalization object at 0x7faf20f1e790> True\n",
            "<tensorflow.python.keras.layers.core.Activation object at 0x7faf20f0a7d0> True\n",
            "<tensorflow.python.keras.layers.convolutional.Conv2D object at 0x7faf20eede50> True\n",
            "<tensorflow.python.keras.layers.convolutional.Conv2D object at 0x7faf20f64590> True\n",
            "<tensorflow.python.keras.layers.normalization_v2.BatchNormalization object at 0x7faf20f0a8d0> True\n",
            "<tensorflow.python.keras.layers.normalization_v2.BatchNormalization object at 0x7faf20f366d0> True\n",
            "<tensorflow.python.keras.layers.merge.Add object at 0x7faf20ef7e10> True\n",
            "<tensorflow.python.keras.layers.core.Activation object at 0x7faf20f3ce10> True\n",
            "<tensorflow.python.keras.layers.convolutional.Conv2D object at 0x7faf20f9e250> True\n",
            "<tensorflow.python.keras.layers.normalization_v2.BatchNormalization object at 0x7faf20fa3850> True\n",
            "<tensorflow.python.keras.layers.core.Activation object at 0x7faf20f8b150> True\n",
            "<tensorflow.python.keras.layers.convolutional.Conv2D object at 0x7faf20f71d90> True\n",
            "<tensorflow.python.keras.layers.normalization_v2.BatchNormalization object at 0x7faf20fdfb10> True\n",
            "<tensorflow.python.keras.layers.core.Activation object at 0x7faf20f17410> True\n",
            "<tensorflow.python.keras.layers.convolutional.Conv2D object at 0x7faf20fc7190> True\n",
            "<tensorflow.python.keras.layers.normalization_v2.BatchNormalization object at 0x7faf20f29f50> True\n",
            "<tensorflow.python.keras.layers.merge.Add object at 0x7faf20f7b290> True\n",
            "<tensorflow.python.keras.layers.core.Activation object at 0x7faf20f17d90> True\n",
            "<tensorflow.python.keras.layers.convolutional.Conv2D object at 0x7faf20eb5dd0> True\n",
            "<tensorflow.python.keras.layers.normalization_v2.BatchNormalization object at 0x7faf20eb7e50> True\n",
            "<tensorflow.python.keras.layers.core.Activation object at 0x7faf20ebaf90> True\n",
            "<tensorflow.python.keras.layers.convolutional.Conv2D object at 0x7faf20ec2750> True\n",
            "<tensorflow.python.keras.layers.normalization_v2.BatchNormalization object at 0x7faf20ec8590> True\n",
            "<tensorflow.python.keras.layers.core.Activation object at 0x7faf20eb37d0> True\n",
            "<tensorflow.python.keras.layers.convolutional.Conv2D object at 0x7faf20ed0750> True\n",
            "<tensorflow.python.keras.layers.normalization_v2.BatchNormalization object at 0x7faf20ed7d10> True\n",
            "<tensorflow.python.keras.layers.merge.Add object at 0x7faf20ed7ed0> True\n",
            "<tensorflow.python.keras.layers.core.Activation object at 0x7faf20ee51d0> True\n",
            "<tensorflow.python.keras.layers.convolutional.Conv2D object at 0x7faf20ee7f10> True\n",
            "<tensorflow.python.keras.layers.normalization_v2.BatchNormalization object at 0x7faf20e6d950> True\n",
            "<tensorflow.python.keras.layers.core.Activation object at 0x7faf20ee5450> True\n",
            "<tensorflow.python.keras.layers.convolutional.Conv2D object at 0x7faf20e77490> True\n",
            "<tensorflow.python.keras.layers.normalization_v2.BatchNormalization object at 0x7faf20e826d0> True\n",
            "<tensorflow.python.keras.layers.core.Activation object at 0x7faf20e73810> True\n",
            "<tensorflow.python.keras.layers.convolutional.Conv2D object at 0x7faf20e85f50> True\n",
            "<tensorflow.python.keras.layers.normalization_v2.BatchNormalization object at 0x7faf20e96cd0> True\n",
            "<tensorflow.python.keras.layers.merge.Add object at 0x7faf20e96b50> True\n",
            "<tensorflow.python.keras.layers.core.Activation object at 0x7faf20e9dfd0> True\n",
            "<tensorflow.python.keras.layers.convolutional.Conv2D object at 0x7faf20ea46d0> True\n",
            "<tensorflow.python.keras.layers.normalization_v2.BatchNormalization object at 0x7faf20ea4950> True\n",
            "<tensorflow.python.keras.layers.core.Activation object at 0x7faf20ec2d90> True\n",
            "<tensorflow.python.keras.layers.convolutional.Conv2D object at 0x7faf20e2e5d0> True\n",
            "<tensorflow.python.keras.layers.normalization_v2.BatchNormalization object at 0x7faf20e36810> True\n",
            "<tensorflow.python.keras.layers.core.Activation object at 0x7faf20e9d750> True\n",
            "<tensorflow.python.keras.layers.convolutional.Conv2D object at 0x7faf20e9dad0> True\n",
            "<tensorflow.python.keras.layers.normalization_v2.BatchNormalization object at 0x7faf20ea45d0> True\n",
            "<tensorflow.python.keras.layers.merge.Add object at 0x7faf20ee70d0> True\n",
            "<tensorflow.python.keras.layers.core.Activation object at 0x7faf20e8ec90> True\n",
            "<tensorflow.python.keras.layers.convolutional.Conv2D object at 0x7faf20e6d2d0> True\n",
            "<tensorflow.python.keras.layers.normalization_v2.BatchNormalization object at 0x7faf20ec5150> True\n",
            "<tensorflow.python.keras.layers.core.Activation object at 0x7faf20e6dc90> True\n",
            "<tensorflow.python.keras.layers.convolutional.Conv2D object at 0x7faf20fc3990> True\n",
            "<tensorflow.python.keras.layers.normalization_v2.BatchNormalization object at 0x7faf20e85ad0> True\n",
            "<tensorflow.python.keras.layers.core.Activation object at 0x7faf20f55c10> True\n",
            "<tensorflow.python.keras.layers.convolutional.Conv2D object at 0x7faf20f4a1d0> True\n",
            "<tensorflow.python.keras.layers.normalization_v2.BatchNormalization object at 0x7faf20f64450> True\n",
            "<tensorflow.python.keras.layers.merge.Add object at 0x7faf20f6a350> True\n",
            "<tensorflow.python.keras.layers.core.Activation object at 0x7faf20e50050> True\n",
            "<tensorflow.python.keras.layers.convolutional.Conv2D object at 0x7faf20e4b310> True\n",
            "<tensorflow.python.keras.layers.normalization_v2.BatchNormalization object at 0x7faf20e68ad0> True\n",
            "<tensorflow.python.keras.layers.core.Activation object at 0x7faf20e61790> True\n",
            "<tensorflow.python.keras.layers.convolutional.Conv2D object at 0x7faf20e50590> True\n",
            "<tensorflow.python.keras.layers.normalization_v2.BatchNormalization object at 0x7faf20dfb6d0> True\n",
            "<tensorflow.python.keras.layers.core.Activation object at 0x7faf20deba50> True\n",
            "<tensorflow.python.keras.layers.convolutional.Conv2D object at 0x7faf20e500d0> True\n",
            "<tensorflow.python.keras.layers.convolutional.Conv2D object at 0x7faf20deb850> True\n",
            "<tensorflow.python.keras.layers.normalization_v2.BatchNormalization object at 0x7faf20e57a10> True\n",
            "<tensorflow.python.keras.layers.normalization_v2.BatchNormalization object at 0x7faf20e0c910> True\n",
            "<tensorflow.python.keras.layers.merge.Add object at 0x7faf20e61150> True\n",
            "<tensorflow.python.keras.layers.core.Activation object at 0x7faf20df5b90> True\n",
            "<tensorflow.python.keras.layers.convolutional.Conv2D object at 0x7faf20df5bd0> True\n",
            "<tensorflow.python.keras.layers.normalization_v2.BatchNormalization object at 0x7faf20e0ca10> True\n",
            "<tensorflow.python.keras.layers.core.Activation object at 0x7faf20e126d0> True\n",
            "<tensorflow.python.keras.layers.convolutional.Conv2D object at 0x7faf20e1da90> True\n",
            "<tensorflow.python.keras.layers.normalization_v2.BatchNormalization object at 0x7faf20e1d1d0> True\n",
            "<tensorflow.python.keras.layers.core.Activation object at 0x7faf20e18110> True\n",
            "<tensorflow.python.keras.layers.convolutional.Conv2D object at 0x7faf20dacbd0> True\n",
            "<tensorflow.python.keras.layers.normalization_v2.BatchNormalization object at 0x7faf20db3610> True\n",
            "<tensorflow.python.keras.layers.merge.Add object at 0x7faf20dfb110> True\n",
            "<tensorflow.python.keras.layers.core.Activation object at 0x7faf20dc5ed0> True\n",
            "<tensorflow.python.keras.layers.convolutional.Conv2D object at 0x7faf20dc5e90> True\n",
            "<tensorflow.python.keras.layers.normalization_v2.BatchNormalization object at 0x7faf20dd1ad0> True\n",
            "<tensorflow.python.keras.layers.core.Activation object at 0x7faf20dc5890> True\n",
            "<tensorflow.python.keras.layers.convolutional.Conv2D object at 0x7faf20dd1dd0> True\n",
            "<tensorflow.python.keras.layers.normalization_v2.BatchNormalization object at 0x7faf20ddb7d0> True\n",
            "<tensorflow.python.keras.layers.core.Activation object at 0x7faf20d6bc90> True\n",
            "<tensorflow.python.keras.layers.convolutional.Conv2D object at 0x7faf20dd57d0> True\n",
            "<tensorflow.python.keras.layers.normalization_v2.BatchNormalization object at 0x7faf20dd1a10> True\n",
            "<tensorflow.python.keras.layers.merge.Add object at 0x7faf20e27710> True\n",
            "<tensorflow.python.keras.layers.core.Activation object at 0x7faf20e27750> True\n",
            "<tensorflow.python.keras.layers.pooling.GlobalAveragePooling2D object at 0x7faf20e27d10> True\n",
            "<tensorflow.python.keras.layers.core.Dropout object at 0x7faf20e4bf90> True\n",
            "<tensorflow.python.keras.layers.core.Dense object at 0x7faf20e12790> True\n",
            "<tensorflow.python.keras.layers.core.Dense object at 0x7faf20e9b090> True\n"
          ],
          "name": "stdout"
        }
      ]
    },
    {
      "cell_type": "code",
      "metadata": {
        "colab": {
          "base_uri": "https://localhost:8080/"
        },
        "id": "CzpaucUgKqth",
        "outputId": "e960c05e-5ec8-473c-e481-ac2bc38d1c51"
      },
      "source": [
        "# Path to save model\n",
        "#save_file = '/Users/anandnair/AyanScienceFair2021/FineTuneResNet_Findings'+'/RUN_Alessio'\n",
        "save_file = 'gdrive/MyDrive/AyanScienceFair/Trial2Findings'\n",
        "checkpoint_path = save_file\n",
        "print(checkpoint_path)\n",
        "os.makedirs(checkpoint_path, exist_ok=True)\n",
        "weightsGood = checkpoint_path + '/weightsResNet50.h5'"
      ],
      "execution_count": null,
      "outputs": [
        {
          "output_type": "stream",
          "text": [
            "gdrive/MyDrive/AyanScienceFair/Trial2Findings\n"
          ],
          "name": "stdout"
        }
      ]
    },
    {
      "cell_type": "code",
      "metadata": {
        "id": "7ccLoSvlKqth"
      },
      "source": [
        "\n",
        "if trainFlag:\n",
        "  early_stopping = EarlyStopping(monitor='val_loss', patience = 20)\n",
        "  #reduce_lr = ReduceLROnPlateau(monitor='val_loss', factor=0.5, patience=20, min_lr=min_lr, verbose = 1)\n",
        "  #checkpointer = ModelCheckpoint(filepath = checkpoint_path + '/weights.h5' , verbose=1, monitor = 'val_loss', mode = 'min', save_best_only=True)\n",
        "\n",
        "  #callback_list = [roc_callback(training_data=(XTrain, YTrain), validation_data=(XVal, YVal)), checkpointer, early_stopping]\n",
        "\n",
        "  checkpoint = ModelCheckpoint(weightsGood, monitor='val_loss',\n",
        "                              save_weights_only=True, mode='min', verbose=1)\n",
        "  callbacks=[PlotLossesKeras(), checkpoint,early_stopping]"
      ],
      "execution_count": null,
      "outputs": []
    },
    {
      "cell_type": "code",
      "metadata": {
        "id": "LF-oQ_nVKqth",
        "scrolled": false,
        "colab": {
          "base_uri": "https://localhost:8080/",
          "height": 721
        },
        "outputId": "2e94748c-88ae-42e3-ea6a-eb813f7f1f36"
      },
      "source": [
        "if trainFlag:\n",
        "  batch_size = 10\n",
        "  t = time.time()\n",
        "  #history = model.fit(XTrain, YTrain, batch_size, epochs=5000, validation_data=(XVal, YVal),\n",
        "  #                   shuffle = True)\n",
        "\n",
        "  history = model.fit(XTrain, YTrain, batch_size, epochs=5000, validation_data=(XVal, YVal),\n",
        "                      callbacks = callbacks, shuffle = True)\n",
        "  elapsed = time.time() - t"
      ],
      "execution_count": null,
      "outputs": [
        {
          "output_type": "display_data",
          "data": {
            "image/png": "[encoded data removed]",
            "text/plain": [
              "<Figure size 864x576 with 2 Axes>"
            ]
          },
          "metadata": {
            "tags": [],
            "needs_background": "light"
          }
        },
        {
          "output_type": "stream",
          "text": [
            "accuracy\n",
            "\ttraining         \t (min:    0.967, max:    1.000, cur:    1.000)\n",
            "\tvalidation       \t (min:    0.280, max:    1.000, cur:    1.000)\n",
            "Loss\n",
            "\ttraining         \t (min:    0.152, max:    2.474, cur:    0.153)\n",
            "\tvalidation       \t (min:    0.151, max:    3.525, cur:    0.151)\n",
            "\n",
            "Epoch 00242: saving model to gdrive/MyDrive/AyanScienceFair/Trial2Findings/weightsResNet50.h5\n"
          ],
          "name": "stdout"
        }
      ]
    },
    {
      "cell_type": "code",
      "metadata": {
        "id": "6vapSHAeKqti"
      },
      "source": [
        "# Everything below if in testing phase (trainFlag=False)\n",
        "if not trainFlag:\n",
        "  model.load_weights(weightsGood)\n",
        "\n",
        "  import os.path\n",
        "  if os.path.exists(test_path1+'XTest2.npy'):\n",
        "    XTest = np.load(test_path1+'XTest2.npy')\n",
        "    YTest= np.load(test_path1+'YTest2.npy')\n",
        "  else:\n",
        "    XTest, YTest = next(test_batch)\n",
        "    np.save(test_path1+'XTest2.npy',XTest)\n",
        "    np.save(test_path1+'YTest2.npy',YTest)\n",
        "\n",
        "\n",
        "\n",
        "# Could use \"model\" for doing prediction now\n"
      ],
      "execution_count": null,
      "outputs": []
    },
    {
      "cell_type": "code",
      "metadata": {
        "colab": {
          "base_uri": "https://localhost:8080/",
          "height": 299
        },
        "id": "oiqlGV7mgA7-",
        "outputId": "4fbfd24e-2fbb-464c-a60a-ab1ef9549327"
      },
      "source": [
        "# Sanity check to see if medians different between two groups\n",
        "if 1:\n",
        "  med1 =[]\n",
        "  med2 = []\n",
        "  mnl=[]\n",
        "  stdl=[]\n",
        "\n",
        "  for iNow in range(np.shape(YTest)[0]):\n",
        "    if(YTest[iNow,0] == 0):\n",
        "      med1.append(np.median(XTest[iNow,:,:,:]))\n",
        "    else:\n",
        "      med2.append(np.median(XTest[iNow,:,:,:]))\n",
        "    mnl.append(np.mean(XTest[iNow,:,:,:]))\n",
        "    stdl.append(np.std(XTest[iNow,:,:,:]))\n",
        "\n",
        "  bins = 100\n",
        "  plt.hist(med1, bins, alpha=0.5, label='class 1')\n",
        "  plt.hist(med2, bins, alpha=0.5, label='class 2')\n",
        "  plt.legend(loc='upper right')\n",
        "  plt.show()\n",
        "  print('Prevalence Class 1: ',len(med1)/(len(med1)+len(med2)))\n",
        "  print('Test Images Mean:',np.mean(mnl), ' std:',np.mean(stdl))"
      ],
      "execution_count": null,
      "outputs": [
        {
          "output_type": "display_data",
          "data": {
            "image/png": "[encoded data removed]",
            "text/plain": [
              "<Figure size 432x288 with 1 Axes>"
            ]
          },
          "metadata": {
            "tags": [],
            "needs_background": "light"
          }
        },
        {
          "output_type": "stream",
          "text": [
            "Prevalence Class 1:  0.7421686746987952\n",
            "Test Images Mean: -6.9934454e-09  std: 1.0\n"
          ],
          "name": "stdout"
        }
      ]
    },
    {
      "cell_type": "code",
      "metadata": {
        "colab": {
          "base_uri": "https://localhost:8080/"
        },
        "id": "TCHk12wEf__B",
        "outputId": "63b99b77-4cb0-46fe-8d8b-6609363efea4"
      },
      "source": [
        "np.shape(YTest)[0]"
      ],
      "execution_count": null,
      "outputs": [
        {
          "output_type": "execute_result",
          "data": {
            "text/plain": [
              "830"
            ]
          },
          "metadata": {
            "tags": []
          },
          "execution_count": 29
        }
      ]
    },
    {
      "cell_type": "markdown",
      "metadata": {
        "id": "krNdxVOMKqti"
      },
      "source": [
        "# Evaluate Performance"
      ]
    },
    {
      "cell_type": "code",
      "metadata": {
        "id": "H1Rk5ff6Kqtj"
      },
      "source": [
        "#load model\n",
        "#loaded_model = load_model(checkpoint_path + '/weights.h5')\n",
        "\n",
        "#New model\n",
        "#base_lr = 1e-9\n",
        "\n",
        "#new_model = Model(inputs=loaded_model.input, outputs=loaded_model.output)\n",
        "#base_lr = 1e-4\n",
        "#adm = Adam(lr = base_lr)\n",
        "\n",
        "#new_model.compile(optimizer=adm, loss='categorical_crossentropy', metrics=['accuracy'], sample_weight_mode = None)\n",
        "#new_model.set_weights(loaded_model.get_weights())"
      ],
      "execution_count": null,
      "outputs": []
    },
    {
      "cell_type": "code",
      "metadata": {
        "id": "QkIDAqJPKqtj"
      },
      "source": [
        "if not trainFlag:\n",
        "  scores = model.predict(XTest)\n"
      ],
      "execution_count": null,
      "outputs": []
    },
    {
      "cell_type": "code",
      "metadata": {
        "id": "mrBLVZcQKqtj",
        "colab": {
          "base_uri": "https://localhost:8080/",
          "height": 448
        },
        "outputId": "f08da71d-b3bb-4cc3-efbf-ecd02fae00c1"
      },
      "source": [
        "if not trainFlag:\n",
        "  # Performance on test set\n",
        "  acc_val = sum(np.equal(np.argmax(scores, axis = 1), YTest[:, 1]))/YTest.shape[0]\n",
        "  print('Accuracy = ', acc_val)\n",
        "\n",
        "  auc_val = roc_auc_score(YTest[:,1], scores[:, 1])\n",
        "  print('AUC = ', auc_val)\n",
        "\n",
        "  fpr, tpr, thresholds = roc_curve(YTest[:, 1], scores[:, 1])\n",
        "  x = 0.95\n",
        "  xp = tpr\n",
        "  fp = fpr\n",
        "  y = np.interp(x, xp, fp)\n",
        "  specificity_val = 1-y\n",
        "  print('Specificity at 95% Sensivity= ', specificity_val)\n",
        "\n",
        "  plt.plot(fpr, tpr)\n",
        "  plt.xlabel('False Positive Rate')\n",
        "  plt.ylabel('True Positive Rate')\n",
        "  plt.title('ROC curve for a pre-trained CNN')\n",
        "  figout = save_file+'/ROC1.pdf'\n",
        "  plt.savefig(figout)\n",
        "  figout\n",
        "  from sklearn.metrics import confusion_matrix\n",
        "\n",
        "predicted_labels = np.argmax(scores, axis = 1)\n",
        "\n",
        "cm1 = confusion_matrix(YTest[:,1],predicted_labels)\n",
        "\n",
        "print('Confusion Matrix : \\n', cm1)\n",
        "\n",
        "\n",
        "\n",
        "total1=sum(sum(cm1))\n",
        "\n",
        "#####from confusion matrix calculate accuracy\n",
        "\n",
        "accuracy1=(cm1[0,0]+cm1[1,1])/total1\n",
        "\n",
        "print ('Accuracy : ', accuracy1)\n",
        "\n",
        "\n",
        "\n",
        "sensitivity1 = cm1[0,0]/(cm1[0,0]+cm1[0,1])\n",
        "\n",
        "print('Sensitivity : ', sensitivity1 )\n",
        "\n",
        "\n",
        "\n",
        "specificity1 = cm1[1,1]/(cm1[1,0]+cm1[1,1])\n",
        "\n",
        "print('Specificity : ', specificity1)\n"
      ],
      "execution_count": null,
      "outputs": [
        {
          "output_type": "stream",
          "text": [
            "Accuracy =  0.9963855421686747\n",
            "AUC =  0.9999620706396408\n",
            "Specificity at 95% Sensivity=  1.0\n",
            "Confusion Matrix : \n",
            " [[214   0]\n",
            " [  3 613]]\n",
            "Accuracy :  0.9963855421686747\n",
            "Sensitivity :  1.0\n",
            "Specificity :  0.9951298701298701\n"
          ],
          "name": "stdout"
        },
        {
          "output_type": "display_data",
          "data": {
            "image/png": "[encoded data removed]",
            "text/plain": [
              "<Figure size 432x288 with 1 Axes>"
            ]
          },
          "metadata": {
            "tags": [],
            "needs_background": "light"
          }
        }
      ]
    },
    {
      "cell_type": "code",
      "metadata": {
        "colab": {
          "base_uri": "https://localhost:8080/"
        },
        "id": "VlerGcfv9s_G",
        "outputId": "9b95c375-0c94-4af1-c954-eb4f15a0d9cd"
      },
      "source": [
        "\n",
        "\n",
        "print(scores)"
      ],
      "execution_count": null,
      "outputs": [
        {
          "output_type": "stream",
          "text": [
            "[[0.00235141 0.99764854]\n",
            " [0.00235674 0.9976433 ]\n",
            " [0.00234148 0.9976585 ]\n",
            " ...\n",
            " [0.00237338 0.9976266 ]\n",
            " [0.0023786  0.99762136]\n",
            " [0.00234425 0.99765575]]\n"
          ],
          "name": "stdout"
        }
      ]
    },
    {
      "cell_type": "code",
      "metadata": {
        "id": "AZA-R2PYKqtj",
        "colab": {
          "base_uri": "https://localhost:8080/",
          "height": 381
        },
        "outputId": "fde4e0df-32de-49cd-b97d-44c8c39c9359"
      },
      "source": [
        "#Performance on validation set as sanity check\n",
        "\n",
        "scores = model.predict(XVal)\n",
        "\n",
        "acc_val = sum(np.equal(np.argmax(scores, axis = 1), YVal[:, 1]))/YVal.shape[0]\n",
        "print('Accuracy = ', acc_val)\n",
        "\n",
        "auc_val = roc_auc_score(YVal[:,1], scores[:, 1])\n",
        "print('AUC = ', auc_val)\n",
        "\n",
        "fpr, tpr, thresholds = roc_curve(YVal[:, 1], scores[:, 1])\n",
        "x = 0.95\n",
        "xp = tpr\n",
        "fp = fpr\n",
        "y = np.interp(x, xp, fp)\n",
        "specificity_val = 1-y\n",
        "print('Specificity = ', specificity_val)\n",
        "print('Specificity at 95% Sensivity= ', specificity_val)\n",
        "\n",
        "plt.plot(fpr, tpr)\n",
        "plt.xlabel('False Positive Rate')\n",
        "plt.ylabel('True Positive Rate')\n",
        "plt.title('ROC curve for a pre-trained CNN on validation set')\n",
        "figout = save_file+'/ROC1_onValication.pdf'\n",
        "plt.savefig(figout)\n",
        "figout"
      ],
      "execution_count": null,
      "outputs": [
        {
          "output_type": "stream",
          "text": [
            "Accuracy =  0.994\n",
            "AUC =  1.0\n",
            "Specificity =  1.0\n",
            "Specificity at 95% Sensivity=  1.0\n"
          ],
          "name": "stdout"
        },
        {
          "output_type": "execute_result",
          "data": {
            "application/vnd.google.colaboratory.intrinsic+json": {
              "type": "string"
            },
            "text/plain": [
              "'gdrive/MyDrive/AyanScienceFair/Trial2Findings/ROC1_onValication.pdf'"
            ]
          },
          "metadata": {
            "tags": []
          },
          "execution_count": 33
        },
        {
          "output_type": "display_data",
          "data": {
            "image/png": "[encoded data removed]",
            "text/plain": [
              "<Figure size 432x288 with 1 Axes>"
            ]
          },
          "metadata": {
            "tags": [],
            "needs_background": "light"
          }
        }
      ]
    },
    {
      "cell_type": "code",
      "metadata": {
        "id": "UxRZ4RfCljvZ"
      },
      "source": [],
      "execution_count": null,
      "outputs": []
    },
    {
      "cell_type": "markdown",
      "metadata": {
        "id": "gcYjC9jVlmPC"
      },
      "source": [
        "# Model, Light-weight mobile version\n"
      ]
    },
    {
      "cell_type": "code",
      "metadata": {
        "colab": {
          "base_uri": "https://localhost:8080/",
          "height": 494
        },
        "id": "rce1Zh9Plp0s",
        "outputId": "f3185764-520c-4a86-c237-3221affdcf91"
      },
      "source": [
        "trainMobileFlag = True\n",
        "#***NOT THE REAL MODEL***\n",
        "\n",
        "#create model\n",
        "model_mobile = Sequential()#add model layers\n",
        "model_mobile.add(Conv2D(2, kernel_size=3, activation='relu', input_shape=(224,224,3)))\n",
        "\n",
        "model_mobile.add(MaxPooling2D())\n",
        "model_mobile.add(Conv2D(2, kernel_size=3, activation='relu'))\n",
        "model_mobile.add(MaxPooling2D())\n",
        "#8 LAYERS\n",
        "model_mobile.add(Conv2D(2, kernel_size=3, activation='relu'))\n",
        "model_mobile.add(MaxPooling2D())\n",
        "#10 LAYERS\n",
        "model_mobile.add(Conv2D(2, kernel_size=3, activation='relu'))\n",
        "model_mobile.add(MaxPooling2D())\n",
        "#12 LAYERS\n",
        "model_mobile.add(Conv2D(2, kernel_size=3, activation='relu'))\n",
        "model_mobile.add(MaxPooling2D())\n",
        "#14 LAYERS\n",
        "model_mobile.add(Conv2D(2, kernel_size=3, activation='relu'))\n",
        "model_mobile.add(MaxPooling2D())\n",
        "#16 lAYERS\n",
        "model_mobile.add(Conv2D(2, kernel_size=3, activation='relu'))\n",
        "model_mobile.add(MaxPooling2D())\n",
        "\n",
        "\n",
        "\n",
        "model_mobile.add(Flatten())\n",
        "model_mobile.add(Dense(2, activation='softmax'))\n",
        "\n",
        "\n",
        "\n",
        "\n",
        "model_mobile.compile(optimizer='adam', loss='categorical_crossentropy', metrics=['accuracy'])\n",
        "model_mobile.summary()"
      ],
      "execution_count": null,
      "outputs": [
        {
          "output_type": "error",
          "ename": "ValueError",
          "evalue": "ignored",
          "traceback": [
            "\u001b[0;31m---------------------------------------------------------------------------\u001b[0m",
            "\u001b[0;31mInvalidArgumentError\u001b[0m                      Traceback (most recent call last)",
            "\u001b[0;32m/usr/local/lib/python3.7/dist-packages/tensorflow/python/framework/ops.py\u001b[0m in \u001b[0;36m_create_c_op\u001b[0;34m(graph, node_def, inputs, control_inputs, op_def)\u001b[0m\n\u001b[1;32m   1852\u001b[0m   \u001b[0;32mtry\u001b[0m\u001b[0;34m:\u001b[0m\u001b[0;34m\u001b[0m\u001b[0;34m\u001b[0m\u001b[0m\n\u001b[0;32m-> 1853\u001b[0;31m     \u001b[0mc_op\u001b[0m \u001b[0;34m=\u001b[0m \u001b[0mpywrap_tf_session\u001b[0m\u001b[0;34m.\u001b[0m\u001b[0mTF_FinishOperation\u001b[0m\u001b[0;34m(\u001b[0m\u001b[0mop_desc\u001b[0m\u001b[0;34m)\u001b[0m\u001b[0;34m\u001b[0m\u001b[0;34m\u001b[0m\u001b[0m\n\u001b[0m\u001b[1;32m   1854\u001b[0m   \u001b[0;32mexcept\u001b[0m \u001b[0merrors\u001b[0m\u001b[0;34m.\u001b[0m\u001b[0mInvalidArgumentError\u001b[0m \u001b[0;32mas\u001b[0m \u001b[0me\u001b[0m\u001b[0;34m:\u001b[0m\u001b[0;34m\u001b[0m\u001b[0;34m\u001b[0m\u001b[0m\n",
            "\u001b[0;31mInvalidArgumentError\u001b[0m: Negative dimension size caused by subtracting 3 from 1 for '{{node conv2d_6/Conv2D}} = Conv2D[T=DT_FLOAT, data_format=\"NHWC\", dilations=[1, 1, 1, 1], explicit_paddings=[], padding=\"VALID\", strides=[1, 1, 1, 1], use_cudnn_on_gpu=true](Placeholder, conv2d_6/Conv2D/ReadVariableOp)' with input shapes: [?,1,1,2], [3,3,2,2].",
            "\nDuring handling of the above exception, another exception occurred:\n",
            "\u001b[0;31mValueError\u001b[0m                                Traceback (most recent call last)",
            "\u001b[0;32m<ipython-input-17-06df3c2ad561>\u001b[0m in \u001b[0;36m<module>\u001b[0;34m()\u001b[0m\n\u001b[1;32m     21\u001b[0m \u001b[0mmodel_mobile\u001b[0m\u001b[0;34m.\u001b[0m\u001b[0madd\u001b[0m\u001b[0;34m(\u001b[0m\u001b[0mMaxPooling2D\u001b[0m\u001b[0;34m(\u001b[0m\u001b[0;34m)\u001b[0m\u001b[0;34m)\u001b[0m\u001b[0;34m\u001b[0m\u001b[0;34m\u001b[0m\u001b[0m\n\u001b[1;32m     22\u001b[0m \u001b[0;31m#16 lAYERS\u001b[0m\u001b[0;34m\u001b[0m\u001b[0;34m\u001b[0m\u001b[0;34m\u001b[0m\u001b[0m\n\u001b[0;32m---> 23\u001b[0;31m \u001b[0mmodel_mobile\u001b[0m\u001b[0;34m.\u001b[0m\u001b[0madd\u001b[0m\u001b[0;34m(\u001b[0m\u001b[0mConv2D\u001b[0m\u001b[0;34m(\u001b[0m\u001b[0;36m2\u001b[0m\u001b[0;34m,\u001b[0m \u001b[0mkernel_size\u001b[0m\u001b[0;34m=\u001b[0m\u001b[0;36m3\u001b[0m\u001b[0;34m,\u001b[0m \u001b[0mactivation\u001b[0m\u001b[0;34m=\u001b[0m\u001b[0;34m'relu'\u001b[0m\u001b[0;34m)\u001b[0m\u001b[0;34m)\u001b[0m\u001b[0;34m\u001b[0m\u001b[0;34m\u001b[0m\u001b[0m\n\u001b[0m\u001b[1;32m     24\u001b[0m \u001b[0mmodel_mobile\u001b[0m\u001b[0;34m.\u001b[0m\u001b[0madd\u001b[0m\u001b[0;34m(\u001b[0m\u001b[0mMaxPooling2D\u001b[0m\u001b[0;34m(\u001b[0m\u001b[0;34m)\u001b[0m\u001b[0;34m)\u001b[0m\u001b[0;34m\u001b[0m\u001b[0;34m\u001b[0m\u001b[0m\n\u001b[1;32m     25\u001b[0m \u001b[0;34m\u001b[0m\u001b[0m\n",
            "\u001b[0;32m/usr/local/lib/python3.7/dist-packages/tensorflow/python/training/tracking/base.py\u001b[0m in \u001b[0;36m_method_wrapper\u001b[0;34m(self, *args, **kwargs)\u001b[0m\n\u001b[1;32m    515\u001b[0m     \u001b[0mself\u001b[0m\u001b[0;34m.\u001b[0m\u001b[0m_self_setattr_tracking\u001b[0m \u001b[0;34m=\u001b[0m \u001b[0;32mFalse\u001b[0m  \u001b[0;31m# pylint: disable=protected-access\u001b[0m\u001b[0;34m\u001b[0m\u001b[0;34m\u001b[0m\u001b[0m\n\u001b[1;32m    516\u001b[0m     \u001b[0;32mtry\u001b[0m\u001b[0;34m:\u001b[0m\u001b[0;34m\u001b[0m\u001b[0;34m\u001b[0m\u001b[0m\n\u001b[0;32m--> 517\u001b[0;31m       \u001b[0mresult\u001b[0m \u001b[0;34m=\u001b[0m \u001b[0mmethod\u001b[0m\u001b[0;34m(\u001b[0m\u001b[0mself\u001b[0m\u001b[0;34m,\u001b[0m \u001b[0;34m*\u001b[0m\u001b[0margs\u001b[0m\u001b[0;34m,\u001b[0m \u001b[0;34m**\u001b[0m\u001b[0mkwargs\u001b[0m\u001b[0;34m)\u001b[0m\u001b[0;34m\u001b[0m\u001b[0;34m\u001b[0m\u001b[0m\n\u001b[0m\u001b[1;32m    518\u001b[0m     \u001b[0;32mfinally\u001b[0m\u001b[0;34m:\u001b[0m\u001b[0;34m\u001b[0m\u001b[0;34m\u001b[0m\u001b[0m\n\u001b[1;32m    519\u001b[0m       \u001b[0mself\u001b[0m\u001b[0;34m.\u001b[0m\u001b[0m_self_setattr_tracking\u001b[0m \u001b[0;34m=\u001b[0m \u001b[0mprevious_value\u001b[0m  \u001b[0;31m# pylint: disable=protected-access\u001b[0m\u001b[0;34m\u001b[0m\u001b[0;34m\u001b[0m\u001b[0m\n",
            "\u001b[0;32m/usr/local/lib/python3.7/dist-packages/tensorflow/python/keras/engine/sequential.py\u001b[0m in \u001b[0;36madd\u001b[0;34m(self, layer)\u001b[0m\n\u001b[1;32m    221\u001b[0m       \u001b[0;31m# If the model is being built continuously on top of an input layer:\u001b[0m\u001b[0;34m\u001b[0m\u001b[0;34m\u001b[0m\u001b[0;34m\u001b[0m\u001b[0m\n\u001b[1;32m    222\u001b[0m       \u001b[0;31m# refresh its output.\u001b[0m\u001b[0;34m\u001b[0m\u001b[0;34m\u001b[0m\u001b[0;34m\u001b[0m\u001b[0m\n\u001b[0;32m--> 223\u001b[0;31m       \u001b[0moutput_tensor\u001b[0m \u001b[0;34m=\u001b[0m \u001b[0mlayer\u001b[0m\u001b[0;34m(\u001b[0m\u001b[0mself\u001b[0m\u001b[0;34m.\u001b[0m\u001b[0moutputs\u001b[0m\u001b[0;34m[\u001b[0m\u001b[0;36m0\u001b[0m\u001b[0;34m]\u001b[0m\u001b[0;34m)\u001b[0m\u001b[0;34m\u001b[0m\u001b[0;34m\u001b[0m\u001b[0m\n\u001b[0m\u001b[1;32m    224\u001b[0m       \u001b[0;32mif\u001b[0m \u001b[0mlen\u001b[0m\u001b[0;34m(\u001b[0m\u001b[0mnest\u001b[0m\u001b[0;34m.\u001b[0m\u001b[0mflatten\u001b[0m\u001b[0;34m(\u001b[0m\u001b[0moutput_tensor\u001b[0m\u001b[0;34m)\u001b[0m\u001b[0;34m)\u001b[0m \u001b[0;34m!=\u001b[0m \u001b[0;36m1\u001b[0m\u001b[0;34m:\u001b[0m\u001b[0;34m\u001b[0m\u001b[0;34m\u001b[0m\u001b[0m\n\u001b[1;32m    225\u001b[0m         \u001b[0;32mraise\u001b[0m \u001b[0mValueError\u001b[0m\u001b[0;34m(\u001b[0m\u001b[0mSINGLE_LAYER_OUTPUT_ERROR_MSG\u001b[0m\u001b[0;34m)\u001b[0m\u001b[0;34m\u001b[0m\u001b[0;34m\u001b[0m\u001b[0m\n",
            "\u001b[0;32m/usr/local/lib/python3.7/dist-packages/tensorflow/python/keras/engine/base_layer.py\u001b[0m in \u001b[0;36m__call__\u001b[0;34m(self, *args, **kwargs)\u001b[0m\n\u001b[1;32m    950\u001b[0m     \u001b[0;32mif\u001b[0m \u001b[0m_in_functional_construction_mode\u001b[0m\u001b[0;34m(\u001b[0m\u001b[0mself\u001b[0m\u001b[0;34m,\u001b[0m \u001b[0minputs\u001b[0m\u001b[0;34m,\u001b[0m \u001b[0margs\u001b[0m\u001b[0;34m,\u001b[0m \u001b[0mkwargs\u001b[0m\u001b[0;34m,\u001b[0m \u001b[0minput_list\u001b[0m\u001b[0;34m)\u001b[0m\u001b[0;34m:\u001b[0m\u001b[0;34m\u001b[0m\u001b[0;34m\u001b[0m\u001b[0m\n\u001b[1;32m    951\u001b[0m       return self._functional_construction_call(inputs, args, kwargs,\n\u001b[0;32m--> 952\u001b[0;31m                                                 input_list)\n\u001b[0m\u001b[1;32m    953\u001b[0m \u001b[0;34m\u001b[0m\u001b[0m\n\u001b[1;32m    954\u001b[0m     \u001b[0;31m# Maintains info about the `Layer.call` stack.\u001b[0m\u001b[0;34m\u001b[0m\u001b[0;34m\u001b[0m\u001b[0;34m\u001b[0m\u001b[0m\n",
            "\u001b[0;32m/usr/local/lib/python3.7/dist-packages/tensorflow/python/keras/engine/base_layer.py\u001b[0m in \u001b[0;36m_functional_construction_call\u001b[0;34m(self, inputs, args, kwargs, input_list)\u001b[0m\n\u001b[1;32m   1089\u001b[0m         \u001b[0;31m# Check input assumptions set after layer building, e.g. input shape.\u001b[0m\u001b[0;34m\u001b[0m\u001b[0;34m\u001b[0m\u001b[0;34m\u001b[0m\u001b[0m\n\u001b[1;32m   1090\u001b[0m         outputs = self._keras_tensor_symbolic_call(\n\u001b[0;32m-> 1091\u001b[0;31m             inputs, input_masks, args, kwargs)\n\u001b[0m\u001b[1;32m   1092\u001b[0m \u001b[0;34m\u001b[0m\u001b[0m\n\u001b[1;32m   1093\u001b[0m         \u001b[0;32mif\u001b[0m \u001b[0moutputs\u001b[0m \u001b[0;32mis\u001b[0m \u001b[0;32mNone\u001b[0m\u001b[0;34m:\u001b[0m\u001b[0;34m\u001b[0m\u001b[0;34m\u001b[0m\u001b[0m\n",
            "\u001b[0;32m/usr/local/lib/python3.7/dist-packages/tensorflow/python/keras/engine/base_layer.py\u001b[0m in \u001b[0;36m_keras_tensor_symbolic_call\u001b[0;34m(self, inputs, input_masks, args, kwargs)\u001b[0m\n\u001b[1;32m    820\u001b[0m       \u001b[0;32mreturn\u001b[0m \u001b[0mnest\u001b[0m\u001b[0;34m.\u001b[0m\u001b[0mmap_structure\u001b[0m\u001b[0;34m(\u001b[0m\u001b[0mkeras_tensor\u001b[0m\u001b[0;34m.\u001b[0m\u001b[0mKerasTensor\u001b[0m\u001b[0;34m,\u001b[0m \u001b[0moutput_signature\u001b[0m\u001b[0;34m)\u001b[0m\u001b[0;34m\u001b[0m\u001b[0;34m\u001b[0m\u001b[0m\n\u001b[1;32m    821\u001b[0m     \u001b[0;32melse\u001b[0m\u001b[0;34m:\u001b[0m\u001b[0;34m\u001b[0m\u001b[0;34m\u001b[0m\u001b[0m\n\u001b[0;32m--> 822\u001b[0;31m       \u001b[0;32mreturn\u001b[0m \u001b[0mself\u001b[0m\u001b[0;34m.\u001b[0m\u001b[0m_infer_output_signature\u001b[0m\u001b[0;34m(\u001b[0m\u001b[0minputs\u001b[0m\u001b[0;34m,\u001b[0m \u001b[0margs\u001b[0m\u001b[0;34m,\u001b[0m \u001b[0mkwargs\u001b[0m\u001b[0;34m,\u001b[0m \u001b[0minput_masks\u001b[0m\u001b[0;34m)\u001b[0m\u001b[0;34m\u001b[0m\u001b[0;34m\u001b[0m\u001b[0m\n\u001b[0m\u001b[1;32m    823\u001b[0m \u001b[0;34m\u001b[0m\u001b[0m\n\u001b[1;32m    824\u001b[0m   \u001b[0;32mdef\u001b[0m \u001b[0m_infer_output_signature\u001b[0m\u001b[0;34m(\u001b[0m\u001b[0mself\u001b[0m\u001b[0;34m,\u001b[0m \u001b[0minputs\u001b[0m\u001b[0;34m,\u001b[0m \u001b[0margs\u001b[0m\u001b[0;34m,\u001b[0m \u001b[0mkwargs\u001b[0m\u001b[0;34m,\u001b[0m \u001b[0minput_masks\u001b[0m\u001b[0;34m)\u001b[0m\u001b[0;34m:\u001b[0m\u001b[0;34m\u001b[0m\u001b[0;34m\u001b[0m\u001b[0m\n",
            "\u001b[0;32m/usr/local/lib/python3.7/dist-packages/tensorflow/python/keras/engine/base_layer.py\u001b[0m in \u001b[0;36m_infer_output_signature\u001b[0;34m(self, inputs, args, kwargs, input_masks)\u001b[0m\n\u001b[1;32m    861\u001b[0m           \u001b[0;31m# TODO(kaftan): do we maybe_build here, or have we already done it?\u001b[0m\u001b[0;34m\u001b[0m\u001b[0;34m\u001b[0m\u001b[0;34m\u001b[0m\u001b[0m\n\u001b[1;32m    862\u001b[0m           \u001b[0mself\u001b[0m\u001b[0;34m.\u001b[0m\u001b[0m_maybe_build\u001b[0m\u001b[0;34m(\u001b[0m\u001b[0minputs\u001b[0m\u001b[0;34m)\u001b[0m\u001b[0;34m\u001b[0m\u001b[0;34m\u001b[0m\u001b[0m\n\u001b[0;32m--> 863\u001b[0;31m           \u001b[0moutputs\u001b[0m \u001b[0;34m=\u001b[0m \u001b[0mcall_fn\u001b[0m\u001b[0;34m(\u001b[0m\u001b[0minputs\u001b[0m\u001b[0;34m,\u001b[0m \u001b[0;34m*\u001b[0m\u001b[0margs\u001b[0m\u001b[0;34m,\u001b[0m \u001b[0;34m**\u001b[0m\u001b[0mkwargs\u001b[0m\u001b[0;34m)\u001b[0m\u001b[0;34m\u001b[0m\u001b[0;34m\u001b[0m\u001b[0m\n\u001b[0m\u001b[1;32m    864\u001b[0m \u001b[0;34m\u001b[0m\u001b[0m\n\u001b[1;32m    865\u001b[0m         \u001b[0mself\u001b[0m\u001b[0;34m.\u001b[0m\u001b[0m_handle_activity_regularization\u001b[0m\u001b[0;34m(\u001b[0m\u001b[0minputs\u001b[0m\u001b[0;34m,\u001b[0m \u001b[0moutputs\u001b[0m\u001b[0;34m)\u001b[0m\u001b[0;34m\u001b[0m\u001b[0;34m\u001b[0m\u001b[0m\n",
            "\u001b[0;32m/usr/local/lib/python3.7/dist-packages/tensorflow/python/keras/layers/convolutional.py\u001b[0m in \u001b[0;36mcall\u001b[0;34m(self, inputs)\u001b[0m\n\u001b[1;32m    246\u001b[0m       \u001b[0minputs\u001b[0m \u001b[0;34m=\u001b[0m \u001b[0marray_ops\u001b[0m\u001b[0;34m.\u001b[0m\u001b[0mpad\u001b[0m\u001b[0;34m(\u001b[0m\u001b[0minputs\u001b[0m\u001b[0;34m,\u001b[0m \u001b[0mself\u001b[0m\u001b[0;34m.\u001b[0m\u001b[0m_compute_causal_padding\u001b[0m\u001b[0;34m(\u001b[0m\u001b[0minputs\u001b[0m\u001b[0;34m)\u001b[0m\u001b[0;34m)\u001b[0m\u001b[0;34m\u001b[0m\u001b[0;34m\u001b[0m\u001b[0m\n\u001b[1;32m    247\u001b[0m \u001b[0;34m\u001b[0m\u001b[0m\n\u001b[0;32m--> 248\u001b[0;31m     \u001b[0moutputs\u001b[0m \u001b[0;34m=\u001b[0m \u001b[0mself\u001b[0m\u001b[0;34m.\u001b[0m\u001b[0m_convolution_op\u001b[0m\u001b[0;34m(\u001b[0m\u001b[0minputs\u001b[0m\u001b[0;34m,\u001b[0m \u001b[0mself\u001b[0m\u001b[0;34m.\u001b[0m\u001b[0mkernel\u001b[0m\u001b[0;34m)\u001b[0m\u001b[0;34m\u001b[0m\u001b[0;34m\u001b[0m\u001b[0m\n\u001b[0m\u001b[1;32m    249\u001b[0m \u001b[0;34m\u001b[0m\u001b[0m\n\u001b[1;32m    250\u001b[0m     \u001b[0;32mif\u001b[0m \u001b[0mself\u001b[0m\u001b[0;34m.\u001b[0m\u001b[0muse_bias\u001b[0m\u001b[0;34m:\u001b[0m\u001b[0;34m\u001b[0m\u001b[0;34m\u001b[0m\u001b[0m\n",
            "\u001b[0;32m/usr/local/lib/python3.7/dist-packages/tensorflow/python/util/dispatch.py\u001b[0m in \u001b[0;36mwrapper\u001b[0;34m(*args, **kwargs)\u001b[0m\n\u001b[1;32m    199\u001b[0m     \u001b[0;34m\"\"\"Call target, and fall back on dispatchers if there is a TypeError.\"\"\"\u001b[0m\u001b[0;34m\u001b[0m\u001b[0;34m\u001b[0m\u001b[0m\n\u001b[1;32m    200\u001b[0m     \u001b[0;32mtry\u001b[0m\u001b[0;34m:\u001b[0m\u001b[0;34m\u001b[0m\u001b[0;34m\u001b[0m\u001b[0m\n\u001b[0;32m--> 201\u001b[0;31m       \u001b[0;32mreturn\u001b[0m \u001b[0mtarget\u001b[0m\u001b[0;34m(\u001b[0m\u001b[0;34m*\u001b[0m\u001b[0margs\u001b[0m\u001b[0;34m,\u001b[0m \u001b[0;34m**\u001b[0m\u001b[0mkwargs\u001b[0m\u001b[0;34m)\u001b[0m\u001b[0;34m\u001b[0m\u001b[0;34m\u001b[0m\u001b[0m\n\u001b[0m\u001b[1;32m    202\u001b[0m     \u001b[0;32mexcept\u001b[0m \u001b[0;34m(\u001b[0m\u001b[0mTypeError\u001b[0m\u001b[0;34m,\u001b[0m \u001b[0mValueError\u001b[0m\u001b[0;34m)\u001b[0m\u001b[0;34m:\u001b[0m\u001b[0;34m\u001b[0m\u001b[0;34m\u001b[0m\u001b[0m\n\u001b[1;32m    203\u001b[0m       \u001b[0;31m# Note: convert_to_eager_tensor currently raises a ValueError, not a\u001b[0m\u001b[0;34m\u001b[0m\u001b[0;34m\u001b[0m\u001b[0;34m\u001b[0m\u001b[0m\n",
            "\u001b[0;32m/usr/local/lib/python3.7/dist-packages/tensorflow/python/ops/nn_ops.py\u001b[0m in \u001b[0;36mconvolution_v2\u001b[0;34m(input, filters, strides, padding, data_format, dilations, name)\u001b[0m\n\u001b[1;32m   1018\u001b[0m       \u001b[0mdata_format\u001b[0m\u001b[0;34m=\u001b[0m\u001b[0mdata_format\u001b[0m\u001b[0;34m,\u001b[0m\u001b[0;34m\u001b[0m\u001b[0;34m\u001b[0m\u001b[0m\n\u001b[1;32m   1019\u001b[0m       \u001b[0mdilations\u001b[0m\u001b[0;34m=\u001b[0m\u001b[0mdilations\u001b[0m\u001b[0;34m,\u001b[0m\u001b[0;34m\u001b[0m\u001b[0;34m\u001b[0m\u001b[0m\n\u001b[0;32m-> 1020\u001b[0;31m       name=name)\n\u001b[0m\u001b[1;32m   1021\u001b[0m \u001b[0;34m\u001b[0m\u001b[0m\n\u001b[1;32m   1022\u001b[0m \u001b[0;34m\u001b[0m\u001b[0m\n",
            "\u001b[0;32m/usr/local/lib/python3.7/dist-packages/tensorflow/python/ops/nn_ops.py\u001b[0m in \u001b[0;36mconvolution_internal\u001b[0;34m(input, filters, strides, padding, data_format, dilations, name, call_from_convolution, num_spatial_dims)\u001b[0m\n\u001b[1;32m   1148\u001b[0m           \u001b[0mdata_format\u001b[0m\u001b[0;34m=\u001b[0m\u001b[0mdata_format\u001b[0m\u001b[0;34m,\u001b[0m\u001b[0;34m\u001b[0m\u001b[0;34m\u001b[0m\u001b[0m\n\u001b[1;32m   1149\u001b[0m           \u001b[0mdilations\u001b[0m\u001b[0;34m=\u001b[0m\u001b[0mdilations\u001b[0m\u001b[0;34m,\u001b[0m\u001b[0;34m\u001b[0m\u001b[0;34m\u001b[0m\u001b[0m\n\u001b[0;32m-> 1150\u001b[0;31m           name=name)\n\u001b[0m\u001b[1;32m   1151\u001b[0m     \u001b[0;32melse\u001b[0m\u001b[0;34m:\u001b[0m\u001b[0;34m\u001b[0m\u001b[0;34m\u001b[0m\u001b[0m\n\u001b[1;32m   1152\u001b[0m       \u001b[0;32mif\u001b[0m \u001b[0mchannel_index\u001b[0m \u001b[0;34m==\u001b[0m \u001b[0;36m1\u001b[0m\u001b[0;34m:\u001b[0m\u001b[0;34m\u001b[0m\u001b[0;34m\u001b[0m\u001b[0m\n",
            "\u001b[0;32m/usr/local/lib/python3.7/dist-packages/tensorflow/python/ops/nn_ops.py\u001b[0m in \u001b[0;36m_conv2d_expanded_batch\u001b[0;34m(input, filters, strides, padding, data_format, dilations, name)\u001b[0m\n\u001b[1;32m   2602\u001b[0m         \u001b[0mdata_format\u001b[0m\u001b[0;34m=\u001b[0m\u001b[0mdata_format\u001b[0m\u001b[0;34m,\u001b[0m\u001b[0;34m\u001b[0m\u001b[0;34m\u001b[0m\u001b[0m\n\u001b[1;32m   2603\u001b[0m         \u001b[0mdilations\u001b[0m\u001b[0;34m=\u001b[0m\u001b[0mdilations\u001b[0m\u001b[0;34m,\u001b[0m\u001b[0;34m\u001b[0m\u001b[0;34m\u001b[0m\u001b[0m\n\u001b[0;32m-> 2604\u001b[0;31m         name=name)\n\u001b[0m\u001b[1;32m   2605\u001b[0m   return squeeze_batch_dims(\n\u001b[1;32m   2606\u001b[0m       \u001b[0minput\u001b[0m\u001b[0;34m,\u001b[0m\u001b[0;34m\u001b[0m\u001b[0;34m\u001b[0m\u001b[0m\n",
            "\u001b[0;32m/usr/local/lib/python3.7/dist-packages/tensorflow/python/ops/gen_nn_ops.py\u001b[0m in \u001b[0;36mconv2d\u001b[0;34m(input, filter, strides, padding, use_cudnn_on_gpu, explicit_paddings, data_format, dilations, name)\u001b[0m\n\u001b[1;32m    971\u001b[0m                   \u001b[0mpadding\u001b[0m\u001b[0;34m=\u001b[0m\u001b[0mpadding\u001b[0m\u001b[0;34m,\u001b[0m \u001b[0muse_cudnn_on_gpu\u001b[0m\u001b[0;34m=\u001b[0m\u001b[0muse_cudnn_on_gpu\u001b[0m\u001b[0;34m,\u001b[0m\u001b[0;34m\u001b[0m\u001b[0;34m\u001b[0m\u001b[0m\n\u001b[1;32m    972\u001b[0m                   \u001b[0mexplicit_paddings\u001b[0m\u001b[0;34m=\u001b[0m\u001b[0mexplicit_paddings\u001b[0m\u001b[0;34m,\u001b[0m\u001b[0;34m\u001b[0m\u001b[0;34m\u001b[0m\u001b[0m\n\u001b[0;32m--> 973\u001b[0;31m                   data_format=data_format, dilations=dilations, name=name)\n\u001b[0m\u001b[1;32m    974\u001b[0m   \u001b[0m_result\u001b[0m \u001b[0;34m=\u001b[0m \u001b[0m_outputs\u001b[0m\u001b[0;34m[\u001b[0m\u001b[0;34m:\u001b[0m\u001b[0;34m]\u001b[0m\u001b[0;34m\u001b[0m\u001b[0;34m\u001b[0m\u001b[0m\n\u001b[1;32m    975\u001b[0m   \u001b[0;32mif\u001b[0m \u001b[0m_execute\u001b[0m\u001b[0;34m.\u001b[0m\u001b[0mmust_record_gradient\u001b[0m\u001b[0;34m(\u001b[0m\u001b[0;34m)\u001b[0m\u001b[0;34m:\u001b[0m\u001b[0;34m\u001b[0m\u001b[0;34m\u001b[0m\u001b[0m\n",
            "\u001b[0;32m/usr/local/lib/python3.7/dist-packages/tensorflow/python/framework/op_def_library.py\u001b[0m in \u001b[0;36m_apply_op_helper\u001b[0;34m(op_type_name, name, **keywords)\u001b[0m\n\u001b[1;32m    748\u001b[0m       op = g._create_op_internal(op_type_name, inputs, dtypes=None,\n\u001b[1;32m    749\u001b[0m                                  \u001b[0mname\u001b[0m\u001b[0;34m=\u001b[0m\u001b[0mscope\u001b[0m\u001b[0;34m,\u001b[0m \u001b[0minput_types\u001b[0m\u001b[0;34m=\u001b[0m\u001b[0minput_types\u001b[0m\u001b[0;34m,\u001b[0m\u001b[0;34m\u001b[0m\u001b[0;34m\u001b[0m\u001b[0m\n\u001b[0;32m--> 750\u001b[0;31m                                  attrs=attr_protos, op_def=op_def)\n\u001b[0m\u001b[1;32m    751\u001b[0m \u001b[0;34m\u001b[0m\u001b[0m\n\u001b[1;32m    752\u001b[0m     \u001b[0;31m# `outputs` is returned as a separate return value so that the output\u001b[0m\u001b[0;34m\u001b[0m\u001b[0;34m\u001b[0m\u001b[0;34m\u001b[0m\u001b[0m\n",
            "\u001b[0;32m/usr/local/lib/python3.7/dist-packages/tensorflow/python/framework/func_graph.py\u001b[0m in \u001b[0;36m_create_op_internal\u001b[0;34m(self, op_type, inputs, dtypes, input_types, name, attrs, op_def, compute_device)\u001b[0m\n\u001b[1;32m    590\u001b[0m     return super(FuncGraph, self)._create_op_internal(  # pylint: disable=protected-access\n\u001b[1;32m    591\u001b[0m         \u001b[0mop_type\u001b[0m\u001b[0;34m,\u001b[0m \u001b[0mcaptured_inputs\u001b[0m\u001b[0;34m,\u001b[0m \u001b[0mdtypes\u001b[0m\u001b[0;34m,\u001b[0m \u001b[0minput_types\u001b[0m\u001b[0;34m,\u001b[0m \u001b[0mname\u001b[0m\u001b[0;34m,\u001b[0m \u001b[0mattrs\u001b[0m\u001b[0;34m,\u001b[0m \u001b[0mop_def\u001b[0m\u001b[0;34m,\u001b[0m\u001b[0;34m\u001b[0m\u001b[0;34m\u001b[0m\u001b[0m\n\u001b[0;32m--> 592\u001b[0;31m         compute_device)\n\u001b[0m\u001b[1;32m    593\u001b[0m \u001b[0;34m\u001b[0m\u001b[0m\n\u001b[1;32m    594\u001b[0m   \u001b[0;32mdef\u001b[0m \u001b[0mcapture\u001b[0m\u001b[0;34m(\u001b[0m\u001b[0mself\u001b[0m\u001b[0;34m,\u001b[0m \u001b[0mtensor\u001b[0m\u001b[0;34m,\u001b[0m \u001b[0mname\u001b[0m\u001b[0;34m=\u001b[0m\u001b[0;32mNone\u001b[0m\u001b[0;34m,\u001b[0m \u001b[0mshape\u001b[0m\u001b[0;34m=\u001b[0m\u001b[0;32mNone\u001b[0m\u001b[0;34m)\u001b[0m\u001b[0;34m:\u001b[0m\u001b[0;34m\u001b[0m\u001b[0;34m\u001b[0m\u001b[0m\n",
            "\u001b[0;32m/usr/local/lib/python3.7/dist-packages/tensorflow/python/framework/ops.py\u001b[0m in \u001b[0;36m_create_op_internal\u001b[0;34m(self, op_type, inputs, dtypes, input_types, name, attrs, op_def, compute_device)\u001b[0m\n\u001b[1;32m   3534\u001b[0m           \u001b[0minput_types\u001b[0m\u001b[0;34m=\u001b[0m\u001b[0minput_types\u001b[0m\u001b[0;34m,\u001b[0m\u001b[0;34m\u001b[0m\u001b[0;34m\u001b[0m\u001b[0m\n\u001b[1;32m   3535\u001b[0m           \u001b[0moriginal_op\u001b[0m\u001b[0;34m=\u001b[0m\u001b[0mself\u001b[0m\u001b[0;34m.\u001b[0m\u001b[0m_default_original_op\u001b[0m\u001b[0;34m,\u001b[0m\u001b[0;34m\u001b[0m\u001b[0;34m\u001b[0m\u001b[0m\n\u001b[0;32m-> 3536\u001b[0;31m           op_def=op_def)\n\u001b[0m\u001b[1;32m   3537\u001b[0m       \u001b[0mself\u001b[0m\u001b[0;34m.\u001b[0m\u001b[0m_create_op_helper\u001b[0m\u001b[0;34m(\u001b[0m\u001b[0mret\u001b[0m\u001b[0;34m,\u001b[0m \u001b[0mcompute_device\u001b[0m\u001b[0;34m=\u001b[0m\u001b[0mcompute_device\u001b[0m\u001b[0;34m)\u001b[0m\u001b[0;34m\u001b[0m\u001b[0;34m\u001b[0m\u001b[0m\n\u001b[1;32m   3538\u001b[0m     \u001b[0;32mreturn\u001b[0m \u001b[0mret\u001b[0m\u001b[0;34m\u001b[0m\u001b[0;34m\u001b[0m\u001b[0m\n",
            "\u001b[0;32m/usr/local/lib/python3.7/dist-packages/tensorflow/python/framework/ops.py\u001b[0m in \u001b[0;36m__init__\u001b[0;34m(self, node_def, g, inputs, output_types, control_inputs, input_types, original_op, op_def)\u001b[0m\n\u001b[1;32m   2014\u001b[0m         \u001b[0mop_def\u001b[0m \u001b[0;34m=\u001b[0m \u001b[0mself\u001b[0m\u001b[0;34m.\u001b[0m\u001b[0m_graph\u001b[0m\u001b[0;34m.\u001b[0m\u001b[0m_get_op_def\u001b[0m\u001b[0;34m(\u001b[0m\u001b[0mnode_def\u001b[0m\u001b[0;34m.\u001b[0m\u001b[0mop\u001b[0m\u001b[0;34m)\u001b[0m\u001b[0;34m\u001b[0m\u001b[0;34m\u001b[0m\u001b[0m\n\u001b[1;32m   2015\u001b[0m       self._c_op = _create_c_op(self._graph, node_def, inputs,\n\u001b[0;32m-> 2016\u001b[0;31m                                 control_input_ops, op_def)\n\u001b[0m\u001b[1;32m   2017\u001b[0m       \u001b[0mname\u001b[0m \u001b[0;34m=\u001b[0m \u001b[0mcompat\u001b[0m\u001b[0;34m.\u001b[0m\u001b[0mas_str\u001b[0m\u001b[0;34m(\u001b[0m\u001b[0mnode_def\u001b[0m\u001b[0;34m.\u001b[0m\u001b[0mname\u001b[0m\u001b[0;34m)\u001b[0m\u001b[0;34m\u001b[0m\u001b[0;34m\u001b[0m\u001b[0m\n\u001b[1;32m   2018\u001b[0m     \u001b[0;31m# pylint: enable=protected-access\u001b[0m\u001b[0;34m\u001b[0m\u001b[0;34m\u001b[0m\u001b[0;34m\u001b[0m\u001b[0m\n",
            "\u001b[0;32m/usr/local/lib/python3.7/dist-packages/tensorflow/python/framework/ops.py\u001b[0m in \u001b[0;36m_create_c_op\u001b[0;34m(graph, node_def, inputs, control_inputs, op_def)\u001b[0m\n\u001b[1;32m   1854\u001b[0m   \u001b[0;32mexcept\u001b[0m \u001b[0merrors\u001b[0m\u001b[0;34m.\u001b[0m\u001b[0mInvalidArgumentError\u001b[0m \u001b[0;32mas\u001b[0m \u001b[0me\u001b[0m\u001b[0;34m:\u001b[0m\u001b[0;34m\u001b[0m\u001b[0;34m\u001b[0m\u001b[0m\n\u001b[1;32m   1855\u001b[0m     \u001b[0;31m# Convert to ValueError for backwards compatibility.\u001b[0m\u001b[0;34m\u001b[0m\u001b[0;34m\u001b[0m\u001b[0;34m\u001b[0m\u001b[0m\n\u001b[0;32m-> 1856\u001b[0;31m     \u001b[0;32mraise\u001b[0m \u001b[0mValueError\u001b[0m\u001b[0;34m(\u001b[0m\u001b[0mstr\u001b[0m\u001b[0;34m(\u001b[0m\u001b[0me\u001b[0m\u001b[0;34m)\u001b[0m\u001b[0;34m)\u001b[0m\u001b[0;34m\u001b[0m\u001b[0;34m\u001b[0m\u001b[0m\n\u001b[0m\u001b[1;32m   1857\u001b[0m \u001b[0;34m\u001b[0m\u001b[0m\n\u001b[1;32m   1858\u001b[0m   \u001b[0;32mreturn\u001b[0m \u001b[0mc_op\u001b[0m\u001b[0;34m\u001b[0m\u001b[0;34m\u001b[0m\u001b[0m\n",
            "\u001b[0;31mValueError\u001b[0m: Negative dimension size caused by subtracting 3 from 1 for '{{node conv2d_6/Conv2D}} = Conv2D[T=DT_FLOAT, data_format=\"NHWC\", dilations=[1, 1, 1, 1], explicit_paddings=[], padding=\"VALID\", strides=[1, 1, 1, 1], use_cudnn_on_gpu=true](Placeholder, conv2d_6/Conv2D/ReadVariableOp)' with input shapes: [?,1,1,2], [3,3,2,2]."
          ]
        }
      ]
    },
    {
      "cell_type": "markdown",
      "metadata": {
        "id": "Imn2XLxCMoGU"
      },
      "source": [
        "### LIGHTWEIGHT MODEL ARCHITECTURE"
      ]
    },
    {
      "cell_type": "code",
      "metadata": {
        "colab": {
          "base_uri": "https://localhost:8080/"
        },
        "id": "5ue4YLFAvV4B",
        "outputId": "3e533156-74e3-4c31-f8b8-0cdf02faea29"
      },
      "source": [
        "trainMobileFlag = True\n",
        "## ALESSIO SUGGESTED MODS\n",
        "#***REAL MODEL***\n",
        "\n",
        "#create model\n",
        "model_mobile = Sequential()#add model layers\n",
        "model_mobile.add(Conv2D(2, kernel_size=3, activation='relu', input_shape=(224,224,3)))\n",
        "model_mobile.add(BatchNormalization())\n",
        "model_mobile.add(Conv2D(2, kernel_size=3, activation='relu'))\n",
        "model_mobile.add(BatchNormalization())\n",
        "model_mobile.add(MaxPooling2D())\n",
        "model_mobile.add(Conv2D(2, kernel_size=3, activation='relu'))\n",
        "model_mobile.add(BatchNormalization())\n",
        "model_mobile.add(MaxPooling2D())\n",
        "model_mobile.add(Flatten())\n",
        "model_mobile.add(Dense(2, activation='softmax'))\n",
        "\n",
        "\n",
        "\n",
        "\n",
        "model_mobile.compile(optimizer='adam', loss='categorical_crossentropy', metrics=['accuracy'])\n",
        "model_mobile.summary()"
      ],
      "execution_count": null,
      "outputs": [
        {
          "output_type": "stream",
          "text": [
            "Model: \"sequential\"\n",
            "_________________________________________________________________\n",
            "Layer (type)                 Output Shape              Param #   \n",
            "=================================================================\n",
            "conv2d (Conv2D)              (None, 222, 222, 2)       56        \n",
            "_________________________________________________________________\n",
            "batch_normalization (BatchNo (None, 222, 222, 2)       8         \n",
            "_________________________________________________________________\n",
            "conv2d_1 (Conv2D)            (None, 220, 220, 2)       38        \n",
            "_________________________________________________________________\n",
            "batch_normalization_1 (Batch (None, 220, 220, 2)       8         \n",
            "_________________________________________________________________\n",
            "max_pooling2d (MaxPooling2D) (None, 110, 110, 2)       0         \n",
            "_________________________________________________________________\n",
            "conv2d_2 (Conv2D)            (None, 108, 108, 2)       38        \n",
            "_________________________________________________________________\n",
            "batch_normalization_2 (Batch (None, 108, 108, 2)       8         \n",
            "_________________________________________________________________\n",
            "max_pooling2d_1 (MaxPooling2 (None, 54, 54, 2)         0         \n",
            "_________________________________________________________________\n",
            "flatten (Flatten)            (None, 5832)              0         \n",
            "_________________________________________________________________\n",
            "dense (Dense)                (None, 2)                 11666     \n",
            "=================================================================\n",
            "Total params: 11,822\n",
            "Trainable params: 11,810\n",
            "Non-trainable params: 12\n",
            "_________________________________________________________________\n"
          ],
          "name": "stdout"
        }
      ]
    },
    {
      "cell_type": "code",
      "metadata": {
        "id": "a0kC1I1PvTbx"
      },
      "source": [],
      "execution_count": null,
      "outputs": []
    },
    {
      "cell_type": "code",
      "metadata": {
        "id": "79NvOtQ4vTsd"
      },
      "source": [],
      "execution_count": null,
      "outputs": []
    },
    {
      "cell_type": "code",
      "metadata": {
        "colab": {
          "base_uri": "https://localhost:8080/"
        },
        "id": "jKVU9qnKnCnZ",
        "outputId": "c48782f6-1ca7-43e9-ca2b-5fdc548e25ed"
      },
      "source": [
        "save_file = 'gdrive/MyDrive/AyanScienceFair/Trial2Findings'\n",
        "checkpoint_path = save_file\n",
        "print(checkpoint_path)\n",
        "import os\n",
        "os.makedirs(checkpoint_path, exist_ok=True)\n",
        "weightsMobile = checkpoint_path + '/weights_LNN.h5'"
      ],
      "execution_count": null,
      "outputs": [
        {
          "output_type": "stream",
          "text": [
            "gdrive/MyDrive/AyanScienceFair/Trial2Findings\n"
          ],
          "name": "stdout"
        }
      ]
    },
    {
      "cell_type": "code",
      "metadata": {
        "id": "7TdFQCC7nOPy"
      },
      "source": [
        "if trainMobileFlag:\n",
        "  early_stopping = EarlyStopping(monitor='val_loss', patience = 20)\n",
        "  checkpoint = ModelCheckpoint(weightsMobile, monitor='val_loss',\n",
        "                              save_weights_only=True, mode='min', verbose=1)\n",
        "  callbacks=[PlotLossesKeras(), checkpoint,early_stopping]"
      ],
      "execution_count": null,
      "outputs": []
    },
    {
      "cell_type": "code",
      "metadata": {
        "id": "fTHUFQNBnaMz",
        "colab": {
          "base_uri": "https://localhost:8080/",
          "height": 721
        },
        "outputId": "09955bbe-641a-4764-fef9-b6a52a976f9e"
      },
      "source": [
        "if trainMobileFlag:\n",
        "  batch_size = 20\n",
        "  t = time.time()\n",
        "\n",
        "  history = model_mobile.fit(XTrain, YTrain, batch_size, epochs=5000, validation_data=(XVal, YVal),\n",
        "                      callbacks = callbacks, shuffle = True)\n",
        "  elapsed = time.time() - t"
      ],
      "execution_count": null,
      "outputs": [
        {
          "output_type": "display_data",
          "data": {
            "image/png": "[encoded data removed]",
            "text/plain": [
              "<Figure size 864x576 with 2 Axes>"
            ]
          },
          "metadata": {
            "tags": [],
            "needs_background": "light"
          }
        },
        {
          "output_type": "stream",
          "text": [
            "accuracy\n",
            "\ttraining         \t (min:    0.842, max:    1.000, cur:    1.000)\n",
            "\tvalidation       \t (min:    0.780, max:    0.946, cur:    0.930)\n",
            "Loss\n",
            "\ttraining         \t (min:    0.001, max:    0.476, cur:    0.001)\n",
            "\tvalidation       \t (min:    0.190, max:    0.470, cur:    0.238)\n",
            "\n",
            "Epoch 00023: saving model to gdrive/MyDrive/AyanScienceFair/Trial2Findings/weights_LNN.h5\n"
          ],
          "name": "stdout"
        }
      ]
    },
    {
      "cell_type": "code",
      "metadata": {
        "id": "2pE-xLz2opEs"
      },
      "source": [],
      "execution_count": null,
      "outputs": []
    },
    {
      "cell_type": "markdown",
      "metadata": {
        "id": "6r8_WNeUoqy5"
      },
      "source": [
        "# Evaluate Performance of Mobile, Lightweight Version"
      ]
    },
    {
      "cell_type": "code",
      "metadata": {
        "id": "hCXay7MEowru"
      },
      "source": [
        "trainMobileFlag = False\n",
        "if not trainMobileFlag:\n",
        "  model_mobile.load_weights(weightsMobile)\n",
        "\n",
        "  import os.path\n",
        "  if os.path.exists(test_path1+'XTest3.npy'):\n",
        "    XTest = np.load(test_path1+'XTest3.npy')\n",
        "    YTest= np.load(test_path1+'YTest3.npy')\n",
        "  else:\n",
        "    XTest, YTest = next(test_batch)\n",
        "    np.save(test_path1+'XTest3.npy',XTest)\n",
        "    np.save(test_path1+'YTest3.npy',YTest)\n",
        "\n",
        "  scores = model_mobile.predict(XTest)"
      ],
      "execution_count": null,
      "outputs": []
    },
    {
      "cell_type": "code",
      "metadata": {
        "colab": {
          "base_uri": "https://localhost:8080/",
          "height": 448
        },
        "id": "Pm1PNZyjpEez",
        "outputId": "37fa2067-0387-4bff-946c-4c7305eebf04"
      },
      "source": [
        "if not trainMobileFlag:\n",
        "  # Performance on test set\n",
        "  acc_val = sum(np.equal(np.argmax(scores, axis = 1), YTest[:, 1]))/YTest.shape[0]\n",
        "  print('Accuracy = ', acc_val)\n",
        "\n",
        "  auc_val = roc_auc_score(YTest[:,1], scores[:, 1])\n",
        "  print('AUC = ', auc_val)\n",
        "\n",
        "  fpr, tpr, thresholds = roc_curve(YTest[:, 1], scores[:, 1])\n",
        "  x = 0.95\n",
        "  xp = tpr\n",
        "  fp = fpr\n",
        "  y = np.interp(x, xp, fp)\n",
        "  specificity_val = 1-y\n",
        "  print('Specificity at 95% Sensivity= ', specificity_val)\n",
        "\n",
        "  plt.plot(fpr, tpr)\n",
        "  plt.xlabel('False Positive Rate')\n",
        "  plt.ylabel('True Positive Rate')\n",
        "  plt.title('ROC curve for Lightweight CNN')\n",
        "  figout = save_file+'/ROC1_lightweight.pdf'\n",
        "  plt.savefig(figout)\n",
        "  figout\n",
        "from sklearn.metrics import confusion_matrix\n",
        "\n",
        "predicted_labels = np.argmax(scores, axis =\n",
        "1)\n",
        "\n",
        "cm1 = confusion_matrix(YTest[:,1],predicted_labels)\n",
        "\n",
        "print('Confusion Matrix : \\n', cm1)\n",
        "\n",
        "\n",
        "\n",
        "total1=sum(sum(cm1))\n",
        "\n",
        "#####from confusion matrix calculate accuracy\n",
        "\n",
        "accuracy1=(cm1[0,0]+cm1[1,1])/total1\n",
        "\n",
        "print ('Accuracy : ', accuracy1)\n",
        "\n",
        "\n",
        "\n",
        "sensitivity1 = cm1[0,0]/(cm1[0,0]+cm1[0,1])\n",
        "\n",
        "print('Sensitivity : ', sensitivity1 )\n",
        "\n",
        "\n",
        "\n",
        "specificity1 = cm1[1,1]/(cm1[1,0]+cm1[1,1])\n",
        "\n",
        "print('Specificity : ', specificity1)\n"
      ],
      "execution_count": null,
      "outputs": [
        {
          "output_type": "stream",
          "text": [
            "Accuracy =  0.9168674698795181\n",
            "AUC =  0.9583801128777764\n",
            "Specificity at 95% Sensivity=  0.8177570093457944\n",
            "Confusion Matrix : \n",
            " [[175  39]\n",
            " [ 30 586]]\n",
            "Accuracy :  0.9168674698795181\n",
            "Sensitivity :  0.8177570093457944\n",
            "Specificity :  0.9512987012987013\n"
          ],
          "name": "stdout"
        },
        {
          "output_type": "display_data",
          "data": {
            "image/png": "[encoded data removed]",
            "text/plain": [
              "<Figure size 432x288 with 1 Axes>"
            ]
          },
          "metadata": {
            "tags": [],
            "needs_background": "light"
          }
        }
      ]
    },
    {
      "cell_type": "markdown",
      "metadata": {
        "id": "mmGQfRSh1CzB"
      },
      "source": []
    },
    {
      "cell_type": "markdown",
      "metadata": {
        "id": "0ubjR7tiKqtj"
      },
      "source": [
        "# History of training -- BELOW IS OLD"
      ]
    },
    {
      "cell_type": "code",
      "metadata": {
        "id": "GRibBOK3nNiD"
      },
      "source": [
        "#***IGNORE THESE BLOCKS OF CODE***"
      ],
      "execution_count": null,
      "outputs": []
    },
    {
      "cell_type": "code",
      "metadata": {
        "id": "apSIfTsgKqtk"
      },
      "source": [
        "def plot_history(history):\n",
        "    loss_list = [s for s in history.history.keys() if 'loss' in s and 'val' not in s]\n",
        "    val_loss_list = [s for s in history.history.keys() if 'loss' in s and 'val' in s]\n",
        "    acc_list = [s for s in history.history.keys() if 'acc' in s and 'val' not in s]\n",
        "    val_acc_list = [s for s in history.history.keys() if 'acc' in s and 'val' in s]\n",
        "    auc_list = [s for s in history.history.keys() if 'auc' in s and 'val' not in s]\n",
        "    val_auc_list = [s for s in history.history.keys() if 'auc' in s and 'val' in s]\n",
        "    spec_list = [s for s in history.history.keys() if 'spec' in s and 'val' not in s]\n",
        "    val_spec_list = [s for s in history.history.keys() if 'spec' in s and 'val' in s]\n",
        "\n",
        "    if len(loss_list) == 0:\n",
        "        print('Loss is missing in history')\n",
        "        return\n",
        "\n",
        "    ## As loss always exists\n",
        "    epochs = range(1,len(history.history[loss_list[0]]) + 1)\n",
        "\n",
        "    ## Loss\n",
        "    plt.figure(1)\n",
        "    for l in loss_list:\n",
        "        plt.plot(epochs, np.log10(history.history[l]), 'b', label='Training loss (' + str(str(format(history.history[l][-1],'.5f'))+')'))\n",
        "    for l in val_loss_list:\n",
        "        plt.plot(epochs, np.log10(history.history[l]), 'g', label='Validation loss (' + str(str(format(history.history[l][-1],'.5f'))+')'))\n",
        "\n",
        "    plt.title('Loss')\n",
        "    plt.xlabel('Epochs')\n",
        "    plt.ylabel('Loss')\n",
        "    plt.legend()\n",
        "\n",
        "    ## Accuracy\n",
        "    plt.figure(2)\n",
        "    for l in acc_list:\n",
        "        plt.plot(epochs, history.history[l], 'b', label='Training accuracy (' + str(format(history.history[l][-1],'.5f'))+')')\n",
        "    for l in val_acc_list:\n",
        "        plt.plot(epochs, history.history[l], 'g', label='Validation accuracy (' + str(format(history.history[l][-1],'.5f'))+')')\n",
        "\n",
        "    plt.title('Accuracy')\n",
        "    plt.xlabel('Epochs')\n",
        "    plt.ylabel('Accuracy')\n",
        "    plt.legend()\n",
        "    plt.show()\n",
        "\n",
        "    ## AUC\n",
        "    plt.figure(3)\n",
        "    for l in auc_list:\n",
        "        plt.plot(epochs, history.history[l], 'b', label='Training AUC (' + str(format(history.history[l][-1],'.5f'))+')')\n",
        "    for l in val_auc_list:\n",
        "        plt.plot(epochs, history.history[l], 'g', label='Validation AUC (' + str(format(history.history[l][-1],'.5f'))+')')\n",
        "\n",
        "    plt.title('AUC')\n",
        "    plt.xlabel('Epochs')\n",
        "    plt.ylabel('AUC')\n",
        "    plt.legend()\n",
        "    plt.show()\n",
        "\n",
        "    ## Spec at 95% sensitivity\n",
        "    plt.figure(3)\n",
        "    for l in spec_list:\n",
        "        plt.plot(epochs, history.history[l], 'b', label='Training Specificity (' + str(format(history.history[l][-1],'.5f'))+')')\n",
        "    for l in val_spec_list:\n",
        "        plt.plot(epochs, history.history[l], 'g', label='Validation Specificity (' + str(format(history.history[l][-1],'.5f'))+')')\n",
        "\n",
        "    plt.title('Specificity at 95% sensitivity')\n",
        "    plt.xlabel('Epochs')\n",
        "    plt.ylabel('Specificity at 95% sensitivity')\n",
        "    plt.legend()\n",
        "    plt.show()"
      ],
      "execution_count": null,
      "outputs": []
    },
    {
      "cell_type": "code",
      "metadata": {
        "id": "hSniKX26Kqtk"
      },
      "source": [
        "plot_history(history)"
      ],
      "execution_count": null,
      "outputs": []
    },
    {
      "cell_type": "code",
      "metadata": {
        "id": "8vnVb2V4Kqtk"
      },
      "source": [],
      "execution_count": null,
      "outputs": []
    }
  ]
}